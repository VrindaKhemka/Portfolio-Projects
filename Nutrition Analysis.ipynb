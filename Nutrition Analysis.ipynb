{
 "cells": [
  {
   "cell_type": "code",
   "execution_count": 2,
   "metadata": {},
   "outputs": [],
   "source": [
    "import pandas as pd\n",
    "import numpy as np\n",
    "import seaborn as sns\n",
    "import matplotlib.pyplot as plt\n",
    "%matplotlib inline\n",
    "import plotly.express as px"
   ]
  },
  {
   "cell_type": "code",
   "execution_count": 3,
   "metadata": {},
   "outputs": [
    {
     "data": {
      "text/html": [
       "<div>\n",
       "<style scoped>\n",
       "    .dataframe tbody tr th:only-of-type {\n",
       "        vertical-align: middle;\n",
       "    }\n",
       "\n",
       "    .dataframe tbody tr th {\n",
       "        vertical-align: top;\n",
       "    }\n",
       "\n",
       "    .dataframe thead th {\n",
       "        text-align: right;\n",
       "    }\n",
       "</style>\n",
       "<table border=\"1\" class=\"dataframe\">\n",
       "  <thead>\n",
       "    <tr style=\"text-align: right;\">\n",
       "      <th></th>\n",
       "      <th>Category</th>\n",
       "      <th>Item</th>\n",
       "      <th>Serving Size</th>\n",
       "      <th>Calories</th>\n",
       "      <th>Calories from Fat</th>\n",
       "      <th>Total Fat</th>\n",
       "      <th>Total Fat (% Daily Value)</th>\n",
       "      <th>Saturated Fat</th>\n",
       "      <th>Saturated Fat (% Daily Value)</th>\n",
       "      <th>Trans Fat</th>\n",
       "      <th>...</th>\n",
       "      <th>Carbohydrates</th>\n",
       "      <th>Carbohydrates (% Daily Value)</th>\n",
       "      <th>Dietary Fiber</th>\n",
       "      <th>Dietary Fiber (% Daily Value)</th>\n",
       "      <th>Sugars</th>\n",
       "      <th>Protein</th>\n",
       "      <th>Vitamin A (% Daily Value)</th>\n",
       "      <th>Vitamin C (% Daily Value)</th>\n",
       "      <th>Calcium (% Daily Value)</th>\n",
       "      <th>Iron (% Daily Value)</th>\n",
       "    </tr>\n",
       "  </thead>\n",
       "  <tbody>\n",
       "    <tr>\n",
       "      <th>0</th>\n",
       "      <td>Breakfast</td>\n",
       "      <td>Egg McMuffin</td>\n",
       "      <td>4.8 oz (136 g)</td>\n",
       "      <td>300</td>\n",
       "      <td>120</td>\n",
       "      <td>13.0</td>\n",
       "      <td>20</td>\n",
       "      <td>5.0</td>\n",
       "      <td>25</td>\n",
       "      <td>0.0</td>\n",
       "      <td>...</td>\n",
       "      <td>31</td>\n",
       "      <td>10</td>\n",
       "      <td>4</td>\n",
       "      <td>17</td>\n",
       "      <td>3</td>\n",
       "      <td>17</td>\n",
       "      <td>10</td>\n",
       "      <td>0</td>\n",
       "      <td>25</td>\n",
       "      <td>15</td>\n",
       "    </tr>\n",
       "    <tr>\n",
       "      <th>1</th>\n",
       "      <td>Breakfast</td>\n",
       "      <td>Egg White Delight</td>\n",
       "      <td>4.8 oz (135 g)</td>\n",
       "      <td>250</td>\n",
       "      <td>70</td>\n",
       "      <td>8.0</td>\n",
       "      <td>12</td>\n",
       "      <td>3.0</td>\n",
       "      <td>15</td>\n",
       "      <td>0.0</td>\n",
       "      <td>...</td>\n",
       "      <td>30</td>\n",
       "      <td>10</td>\n",
       "      <td>4</td>\n",
       "      <td>17</td>\n",
       "      <td>3</td>\n",
       "      <td>18</td>\n",
       "      <td>6</td>\n",
       "      <td>0</td>\n",
       "      <td>25</td>\n",
       "      <td>8</td>\n",
       "    </tr>\n",
       "    <tr>\n",
       "      <th>2</th>\n",
       "      <td>Breakfast</td>\n",
       "      <td>Sausage McMuffin</td>\n",
       "      <td>3.9 oz (111 g)</td>\n",
       "      <td>370</td>\n",
       "      <td>200</td>\n",
       "      <td>23.0</td>\n",
       "      <td>35</td>\n",
       "      <td>8.0</td>\n",
       "      <td>42</td>\n",
       "      <td>0.0</td>\n",
       "      <td>...</td>\n",
       "      <td>29</td>\n",
       "      <td>10</td>\n",
       "      <td>4</td>\n",
       "      <td>17</td>\n",
       "      <td>2</td>\n",
       "      <td>14</td>\n",
       "      <td>8</td>\n",
       "      <td>0</td>\n",
       "      <td>25</td>\n",
       "      <td>10</td>\n",
       "    </tr>\n",
       "    <tr>\n",
       "      <th>3</th>\n",
       "      <td>Breakfast</td>\n",
       "      <td>Sausage McMuffin with Egg</td>\n",
       "      <td>5.7 oz (161 g)</td>\n",
       "      <td>450</td>\n",
       "      <td>250</td>\n",
       "      <td>28.0</td>\n",
       "      <td>43</td>\n",
       "      <td>10.0</td>\n",
       "      <td>52</td>\n",
       "      <td>0.0</td>\n",
       "      <td>...</td>\n",
       "      <td>30</td>\n",
       "      <td>10</td>\n",
       "      <td>4</td>\n",
       "      <td>17</td>\n",
       "      <td>2</td>\n",
       "      <td>21</td>\n",
       "      <td>15</td>\n",
       "      <td>0</td>\n",
       "      <td>30</td>\n",
       "      <td>15</td>\n",
       "    </tr>\n",
       "    <tr>\n",
       "      <th>4</th>\n",
       "      <td>Breakfast</td>\n",
       "      <td>Sausage McMuffin with Egg Whites</td>\n",
       "      <td>5.7 oz (161 g)</td>\n",
       "      <td>400</td>\n",
       "      <td>210</td>\n",
       "      <td>23.0</td>\n",
       "      <td>35</td>\n",
       "      <td>8.0</td>\n",
       "      <td>42</td>\n",
       "      <td>0.0</td>\n",
       "      <td>...</td>\n",
       "      <td>30</td>\n",
       "      <td>10</td>\n",
       "      <td>4</td>\n",
       "      <td>17</td>\n",
       "      <td>2</td>\n",
       "      <td>21</td>\n",
       "      <td>6</td>\n",
       "      <td>0</td>\n",
       "      <td>25</td>\n",
       "      <td>10</td>\n",
       "    </tr>\n",
       "    <tr>\n",
       "      <th>5</th>\n",
       "      <td>Breakfast</td>\n",
       "      <td>Steak &amp; Egg McMuffin</td>\n",
       "      <td>6.5 oz (185 g)</td>\n",
       "      <td>430</td>\n",
       "      <td>210</td>\n",
       "      <td>23.0</td>\n",
       "      <td>36</td>\n",
       "      <td>9.0</td>\n",
       "      <td>46</td>\n",
       "      <td>1.0</td>\n",
       "      <td>...</td>\n",
       "      <td>31</td>\n",
       "      <td>10</td>\n",
       "      <td>4</td>\n",
       "      <td>18</td>\n",
       "      <td>3</td>\n",
       "      <td>26</td>\n",
       "      <td>15</td>\n",
       "      <td>2</td>\n",
       "      <td>30</td>\n",
       "      <td>20</td>\n",
       "    </tr>\n",
       "    <tr>\n",
       "      <th>6</th>\n",
       "      <td>Breakfast</td>\n",
       "      <td>Bacon, Egg &amp; Cheese Biscuit (Regular Biscuit)</td>\n",
       "      <td>5.3 oz (150 g)</td>\n",
       "      <td>460</td>\n",
       "      <td>230</td>\n",
       "      <td>26.0</td>\n",
       "      <td>40</td>\n",
       "      <td>13.0</td>\n",
       "      <td>65</td>\n",
       "      <td>0.0</td>\n",
       "      <td>...</td>\n",
       "      <td>38</td>\n",
       "      <td>13</td>\n",
       "      <td>2</td>\n",
       "      <td>7</td>\n",
       "      <td>3</td>\n",
       "      <td>19</td>\n",
       "      <td>10</td>\n",
       "      <td>8</td>\n",
       "      <td>15</td>\n",
       "      <td>15</td>\n",
       "    </tr>\n",
       "    <tr>\n",
       "      <th>7</th>\n",
       "      <td>Breakfast</td>\n",
       "      <td>Bacon, Egg &amp; Cheese Biscuit (Large Biscuit)</td>\n",
       "      <td>5.8 oz (164 g)</td>\n",
       "      <td>520</td>\n",
       "      <td>270</td>\n",
       "      <td>30.0</td>\n",
       "      <td>47</td>\n",
       "      <td>14.0</td>\n",
       "      <td>68</td>\n",
       "      <td>0.0</td>\n",
       "      <td>...</td>\n",
       "      <td>43</td>\n",
       "      <td>14</td>\n",
       "      <td>3</td>\n",
       "      <td>12</td>\n",
       "      <td>4</td>\n",
       "      <td>19</td>\n",
       "      <td>15</td>\n",
       "      <td>8</td>\n",
       "      <td>20</td>\n",
       "      <td>20</td>\n",
       "    </tr>\n",
       "    <tr>\n",
       "      <th>8</th>\n",
       "      <td>Breakfast</td>\n",
       "      <td>Bacon, Egg &amp; Cheese Biscuit with Egg Whites (R...</td>\n",
       "      <td>5.4 oz (153 g)</td>\n",
       "      <td>410</td>\n",
       "      <td>180</td>\n",
       "      <td>20.0</td>\n",
       "      <td>32</td>\n",
       "      <td>11.0</td>\n",
       "      <td>56</td>\n",
       "      <td>0.0</td>\n",
       "      <td>...</td>\n",
       "      <td>36</td>\n",
       "      <td>12</td>\n",
       "      <td>2</td>\n",
       "      <td>7</td>\n",
       "      <td>3</td>\n",
       "      <td>20</td>\n",
       "      <td>2</td>\n",
       "      <td>8</td>\n",
       "      <td>15</td>\n",
       "      <td>10</td>\n",
       "    </tr>\n",
       "    <tr>\n",
       "      <th>9</th>\n",
       "      <td>Breakfast</td>\n",
       "      <td>Bacon, Egg &amp; Cheese Biscuit with Egg Whites (L...</td>\n",
       "      <td>5.9 oz (167 g)</td>\n",
       "      <td>470</td>\n",
       "      <td>220</td>\n",
       "      <td>25.0</td>\n",
       "      <td>38</td>\n",
       "      <td>12.0</td>\n",
       "      <td>59</td>\n",
       "      <td>0.0</td>\n",
       "      <td>...</td>\n",
       "      <td>42</td>\n",
       "      <td>14</td>\n",
       "      <td>3</td>\n",
       "      <td>12</td>\n",
       "      <td>4</td>\n",
       "      <td>20</td>\n",
       "      <td>6</td>\n",
       "      <td>8</td>\n",
       "      <td>15</td>\n",
       "      <td>15</td>\n",
       "    </tr>\n",
       "  </tbody>\n",
       "</table>\n",
       "<p>10 rows × 24 columns</p>\n",
       "</div>"
      ],
      "text/plain": [
       "    Category                                               Item  \\\n",
       "0  Breakfast                                       Egg McMuffin   \n",
       "1  Breakfast                                  Egg White Delight   \n",
       "2  Breakfast                                   Sausage McMuffin   \n",
       "3  Breakfast                          Sausage McMuffin with Egg   \n",
       "4  Breakfast                   Sausage McMuffin with Egg Whites   \n",
       "5  Breakfast                               Steak & Egg McMuffin   \n",
       "6  Breakfast      Bacon, Egg & Cheese Biscuit (Regular Biscuit)   \n",
       "7  Breakfast        Bacon, Egg & Cheese Biscuit (Large Biscuit)   \n",
       "8  Breakfast  Bacon, Egg & Cheese Biscuit with Egg Whites (R...   \n",
       "9  Breakfast  Bacon, Egg & Cheese Biscuit with Egg Whites (L...   \n",
       "\n",
       "     Serving Size  Calories  Calories from Fat  Total Fat  \\\n",
       "0  4.8 oz (136 g)       300                120       13.0   \n",
       "1  4.8 oz (135 g)       250                 70        8.0   \n",
       "2  3.9 oz (111 g)       370                200       23.0   \n",
       "3  5.7 oz (161 g)       450                250       28.0   \n",
       "4  5.7 oz (161 g)       400                210       23.0   \n",
       "5  6.5 oz (185 g)       430                210       23.0   \n",
       "6  5.3 oz (150 g)       460                230       26.0   \n",
       "7  5.8 oz (164 g)       520                270       30.0   \n",
       "8  5.4 oz (153 g)       410                180       20.0   \n",
       "9  5.9 oz (167 g)       470                220       25.0   \n",
       "\n",
       "   Total Fat (% Daily Value)  Saturated Fat  Saturated Fat (% Daily Value)  \\\n",
       "0                         20            5.0                             25   \n",
       "1                         12            3.0                             15   \n",
       "2                         35            8.0                             42   \n",
       "3                         43           10.0                             52   \n",
       "4                         35            8.0                             42   \n",
       "5                         36            9.0                             46   \n",
       "6                         40           13.0                             65   \n",
       "7                         47           14.0                             68   \n",
       "8                         32           11.0                             56   \n",
       "9                         38           12.0                             59   \n",
       "\n",
       "   Trans Fat  ...  Carbohydrates  Carbohydrates (% Daily Value)  \\\n",
       "0        0.0  ...             31                             10   \n",
       "1        0.0  ...             30                             10   \n",
       "2        0.0  ...             29                             10   \n",
       "3        0.0  ...             30                             10   \n",
       "4        0.0  ...             30                             10   \n",
       "5        1.0  ...             31                             10   \n",
       "6        0.0  ...             38                             13   \n",
       "7        0.0  ...             43                             14   \n",
       "8        0.0  ...             36                             12   \n",
       "9        0.0  ...             42                             14   \n",
       "\n",
       "   Dietary Fiber  Dietary Fiber (% Daily Value)  Sugars  Protein  \\\n",
       "0              4                             17       3       17   \n",
       "1              4                             17       3       18   \n",
       "2              4                             17       2       14   \n",
       "3              4                             17       2       21   \n",
       "4              4                             17       2       21   \n",
       "5              4                             18       3       26   \n",
       "6              2                              7       3       19   \n",
       "7              3                             12       4       19   \n",
       "8              2                              7       3       20   \n",
       "9              3                             12       4       20   \n",
       "\n",
       "   Vitamin A (% Daily Value)  Vitamin C (% Daily Value)  \\\n",
       "0                         10                          0   \n",
       "1                          6                          0   \n",
       "2                          8                          0   \n",
       "3                         15                          0   \n",
       "4                          6                          0   \n",
       "5                         15                          2   \n",
       "6                         10                          8   \n",
       "7                         15                          8   \n",
       "8                          2                          8   \n",
       "9                          6                          8   \n",
       "\n",
       "   Calcium (% Daily Value)  Iron (% Daily Value)  \n",
       "0                       25                    15  \n",
       "1                       25                     8  \n",
       "2                       25                    10  \n",
       "3                       30                    15  \n",
       "4                       25                    10  \n",
       "5                       30                    20  \n",
       "6                       15                    15  \n",
       "7                       20                    20  \n",
       "8                       15                    10  \n",
       "9                       15                    15  \n",
       "\n",
       "[10 rows x 24 columns]"
      ]
     },
     "execution_count": 3,
     "metadata": {},
     "output_type": "execute_result"
    }
   ],
   "source": [
    "df= pd.read_csv(\"C:/Users/vrind/Downloads/nutrition/menu.csv\")\n",
    "df.head(10)"
   ]
  },
  {
   "cell_type": "code",
   "execution_count": 4,
   "metadata": {},
   "outputs": [
    {
     "name": "stdout",
     "output_type": "stream",
     "text": [
      "<class 'pandas.core.frame.DataFrame'>\n",
      "RangeIndex: 260 entries, 0 to 259\n",
      "Data columns (total 24 columns):\n",
      " #   Column                         Non-Null Count  Dtype  \n",
      "---  ------                         --------------  -----  \n",
      " 0   Category                       260 non-null    object \n",
      " 1   Item                           260 non-null    object \n",
      " 2   Serving Size                   260 non-null    object \n",
      " 3   Calories                       260 non-null    int64  \n",
      " 4   Calories from Fat              260 non-null    int64  \n",
      " 5   Total Fat                      260 non-null    float64\n",
      " 6   Total Fat (% Daily Value)      260 non-null    int64  \n",
      " 7   Saturated Fat                  260 non-null    float64\n",
      " 8   Saturated Fat (% Daily Value)  260 non-null    int64  \n",
      " 9   Trans Fat                      260 non-null    float64\n",
      " 10  Cholesterol                    260 non-null    int64  \n",
      " 11  Cholesterol (% Daily Value)    260 non-null    int64  \n",
      " 12  Sodium                         260 non-null    int64  \n",
      " 13  Sodium (% Daily Value)         260 non-null    int64  \n",
      " 14  Carbohydrates                  260 non-null    int64  \n",
      " 15  Carbohydrates (% Daily Value)  260 non-null    int64  \n",
      " 16  Dietary Fiber                  260 non-null    int64  \n",
      " 17  Dietary Fiber (% Daily Value)  260 non-null    int64  \n",
      " 18  Sugars                         260 non-null    int64  \n",
      " 19  Protein                        260 non-null    int64  \n",
      " 20  Vitamin A (% Daily Value)      260 non-null    int64  \n",
      " 21  Vitamin C (% Daily Value)      260 non-null    int64  \n",
      " 22  Calcium (% Daily Value)        260 non-null    int64  \n",
      " 23  Iron (% Daily Value)           260 non-null    int64  \n",
      "dtypes: float64(3), int64(18), object(3)\n",
      "memory usage: 48.9+ KB\n"
     ]
    },
    {
     "data": {
      "text/html": [
       "<div>\n",
       "<style scoped>\n",
       "    .dataframe tbody tr th:only-of-type {\n",
       "        vertical-align: middle;\n",
       "    }\n",
       "\n",
       "    .dataframe tbody tr th {\n",
       "        vertical-align: top;\n",
       "    }\n",
       "\n",
       "    .dataframe thead th {\n",
       "        text-align: right;\n",
       "    }\n",
       "</style>\n",
       "<table border=\"1\" class=\"dataframe\">\n",
       "  <thead>\n",
       "    <tr style=\"text-align: right;\">\n",
       "      <th></th>\n",
       "      <th>Calories</th>\n",
       "      <th>Calories from Fat</th>\n",
       "      <th>Total Fat</th>\n",
       "      <th>Total Fat (% Daily Value)</th>\n",
       "      <th>Saturated Fat</th>\n",
       "      <th>Saturated Fat (% Daily Value)</th>\n",
       "      <th>Trans Fat</th>\n",
       "      <th>Cholesterol</th>\n",
       "      <th>Cholesterol (% Daily Value)</th>\n",
       "      <th>Sodium</th>\n",
       "      <th>...</th>\n",
       "      <th>Carbohydrates</th>\n",
       "      <th>Carbohydrates (% Daily Value)</th>\n",
       "      <th>Dietary Fiber</th>\n",
       "      <th>Dietary Fiber (% Daily Value)</th>\n",
       "      <th>Sugars</th>\n",
       "      <th>Protein</th>\n",
       "      <th>Vitamin A (% Daily Value)</th>\n",
       "      <th>Vitamin C (% Daily Value)</th>\n",
       "      <th>Calcium (% Daily Value)</th>\n",
       "      <th>Iron (% Daily Value)</th>\n",
       "    </tr>\n",
       "  </thead>\n",
       "  <tbody>\n",
       "    <tr>\n",
       "      <th>count</th>\n",
       "      <td>260.000000</td>\n",
       "      <td>260.000000</td>\n",
       "      <td>260.000000</td>\n",
       "      <td>260.000000</td>\n",
       "      <td>260.000000</td>\n",
       "      <td>260.000000</td>\n",
       "      <td>260.000000</td>\n",
       "      <td>260.000000</td>\n",
       "      <td>260.000000</td>\n",
       "      <td>260.000000</td>\n",
       "      <td>...</td>\n",
       "      <td>260.000000</td>\n",
       "      <td>260.000000</td>\n",
       "      <td>260.000000</td>\n",
       "      <td>260.000000</td>\n",
       "      <td>260.000000</td>\n",
       "      <td>260.000000</td>\n",
       "      <td>260.000000</td>\n",
       "      <td>260.000000</td>\n",
       "      <td>260.000000</td>\n",
       "      <td>260.000000</td>\n",
       "    </tr>\n",
       "    <tr>\n",
       "      <th>mean</th>\n",
       "      <td>368.269231</td>\n",
       "      <td>127.096154</td>\n",
       "      <td>14.165385</td>\n",
       "      <td>21.815385</td>\n",
       "      <td>6.007692</td>\n",
       "      <td>29.965385</td>\n",
       "      <td>0.203846</td>\n",
       "      <td>54.942308</td>\n",
       "      <td>18.392308</td>\n",
       "      <td>495.750000</td>\n",
       "      <td>...</td>\n",
       "      <td>47.346154</td>\n",
       "      <td>15.780769</td>\n",
       "      <td>1.630769</td>\n",
       "      <td>6.530769</td>\n",
       "      <td>29.423077</td>\n",
       "      <td>13.338462</td>\n",
       "      <td>13.426923</td>\n",
       "      <td>8.534615</td>\n",
       "      <td>20.973077</td>\n",
       "      <td>7.734615</td>\n",
       "    </tr>\n",
       "    <tr>\n",
       "      <th>std</th>\n",
       "      <td>240.269886</td>\n",
       "      <td>127.875914</td>\n",
       "      <td>14.205998</td>\n",
       "      <td>21.885199</td>\n",
       "      <td>5.321873</td>\n",
       "      <td>26.639209</td>\n",
       "      <td>0.429133</td>\n",
       "      <td>87.269257</td>\n",
       "      <td>29.091653</td>\n",
       "      <td>577.026323</td>\n",
       "      <td>...</td>\n",
       "      <td>28.252232</td>\n",
       "      <td>9.419544</td>\n",
       "      <td>1.567717</td>\n",
       "      <td>6.307057</td>\n",
       "      <td>28.679797</td>\n",
       "      <td>11.426146</td>\n",
       "      <td>24.366381</td>\n",
       "      <td>26.345542</td>\n",
       "      <td>17.019953</td>\n",
       "      <td>8.723263</td>\n",
       "    </tr>\n",
       "    <tr>\n",
       "      <th>min</th>\n",
       "      <td>0.000000</td>\n",
       "      <td>0.000000</td>\n",
       "      <td>0.000000</td>\n",
       "      <td>0.000000</td>\n",
       "      <td>0.000000</td>\n",
       "      <td>0.000000</td>\n",
       "      <td>0.000000</td>\n",
       "      <td>0.000000</td>\n",
       "      <td>0.000000</td>\n",
       "      <td>0.000000</td>\n",
       "      <td>...</td>\n",
       "      <td>0.000000</td>\n",
       "      <td>0.000000</td>\n",
       "      <td>0.000000</td>\n",
       "      <td>0.000000</td>\n",
       "      <td>0.000000</td>\n",
       "      <td>0.000000</td>\n",
       "      <td>0.000000</td>\n",
       "      <td>0.000000</td>\n",
       "      <td>0.000000</td>\n",
       "      <td>0.000000</td>\n",
       "    </tr>\n",
       "    <tr>\n",
       "      <th>25%</th>\n",
       "      <td>210.000000</td>\n",
       "      <td>20.000000</td>\n",
       "      <td>2.375000</td>\n",
       "      <td>3.750000</td>\n",
       "      <td>1.000000</td>\n",
       "      <td>4.750000</td>\n",
       "      <td>0.000000</td>\n",
       "      <td>5.000000</td>\n",
       "      <td>2.000000</td>\n",
       "      <td>107.500000</td>\n",
       "      <td>...</td>\n",
       "      <td>30.000000</td>\n",
       "      <td>10.000000</td>\n",
       "      <td>0.000000</td>\n",
       "      <td>0.000000</td>\n",
       "      <td>5.750000</td>\n",
       "      <td>4.000000</td>\n",
       "      <td>2.000000</td>\n",
       "      <td>0.000000</td>\n",
       "      <td>6.000000</td>\n",
       "      <td>0.000000</td>\n",
       "    </tr>\n",
       "    <tr>\n",
       "      <th>50%</th>\n",
       "      <td>340.000000</td>\n",
       "      <td>100.000000</td>\n",
       "      <td>11.000000</td>\n",
       "      <td>17.000000</td>\n",
       "      <td>5.000000</td>\n",
       "      <td>24.000000</td>\n",
       "      <td>0.000000</td>\n",
       "      <td>35.000000</td>\n",
       "      <td>11.000000</td>\n",
       "      <td>190.000000</td>\n",
       "      <td>...</td>\n",
       "      <td>44.000000</td>\n",
       "      <td>15.000000</td>\n",
       "      <td>1.000000</td>\n",
       "      <td>5.000000</td>\n",
       "      <td>17.500000</td>\n",
       "      <td>12.000000</td>\n",
       "      <td>8.000000</td>\n",
       "      <td>0.000000</td>\n",
       "      <td>20.000000</td>\n",
       "      <td>4.000000</td>\n",
       "    </tr>\n",
       "    <tr>\n",
       "      <th>75%</th>\n",
       "      <td>500.000000</td>\n",
       "      <td>200.000000</td>\n",
       "      <td>22.250000</td>\n",
       "      <td>35.000000</td>\n",
       "      <td>10.000000</td>\n",
       "      <td>48.000000</td>\n",
       "      <td>0.000000</td>\n",
       "      <td>65.000000</td>\n",
       "      <td>21.250000</td>\n",
       "      <td>865.000000</td>\n",
       "      <td>...</td>\n",
       "      <td>60.000000</td>\n",
       "      <td>20.000000</td>\n",
       "      <td>3.000000</td>\n",
       "      <td>10.000000</td>\n",
       "      <td>48.000000</td>\n",
       "      <td>19.000000</td>\n",
       "      <td>15.000000</td>\n",
       "      <td>4.000000</td>\n",
       "      <td>30.000000</td>\n",
       "      <td>15.000000</td>\n",
       "    </tr>\n",
       "    <tr>\n",
       "      <th>max</th>\n",
       "      <td>1880.000000</td>\n",
       "      <td>1060.000000</td>\n",
       "      <td>118.000000</td>\n",
       "      <td>182.000000</td>\n",
       "      <td>20.000000</td>\n",
       "      <td>102.000000</td>\n",
       "      <td>2.500000</td>\n",
       "      <td>575.000000</td>\n",
       "      <td>192.000000</td>\n",
       "      <td>3600.000000</td>\n",
       "      <td>...</td>\n",
       "      <td>141.000000</td>\n",
       "      <td>47.000000</td>\n",
       "      <td>7.000000</td>\n",
       "      <td>28.000000</td>\n",
       "      <td>128.000000</td>\n",
       "      <td>87.000000</td>\n",
       "      <td>170.000000</td>\n",
       "      <td>240.000000</td>\n",
       "      <td>70.000000</td>\n",
       "      <td>40.000000</td>\n",
       "    </tr>\n",
       "  </tbody>\n",
       "</table>\n",
       "<p>8 rows × 21 columns</p>\n",
       "</div>"
      ],
      "text/plain": [
       "          Calories  Calories from Fat   Total Fat  Total Fat (% Daily Value)  \\\n",
       "count   260.000000         260.000000  260.000000                 260.000000   \n",
       "mean    368.269231         127.096154   14.165385                  21.815385   \n",
       "std     240.269886         127.875914   14.205998                  21.885199   \n",
       "min       0.000000           0.000000    0.000000                   0.000000   \n",
       "25%     210.000000          20.000000    2.375000                   3.750000   \n",
       "50%     340.000000         100.000000   11.000000                  17.000000   \n",
       "75%     500.000000         200.000000   22.250000                  35.000000   \n",
       "max    1880.000000        1060.000000  118.000000                 182.000000   \n",
       "\n",
       "       Saturated Fat  Saturated Fat (% Daily Value)   Trans Fat  Cholesterol  \\\n",
       "count     260.000000                     260.000000  260.000000   260.000000   \n",
       "mean        6.007692                      29.965385    0.203846    54.942308   \n",
       "std         5.321873                      26.639209    0.429133    87.269257   \n",
       "min         0.000000                       0.000000    0.000000     0.000000   \n",
       "25%         1.000000                       4.750000    0.000000     5.000000   \n",
       "50%         5.000000                      24.000000    0.000000    35.000000   \n",
       "75%        10.000000                      48.000000    0.000000    65.000000   \n",
       "max        20.000000                     102.000000    2.500000   575.000000   \n",
       "\n",
       "       Cholesterol (% Daily Value)       Sodium  ...  Carbohydrates  \\\n",
       "count                   260.000000   260.000000  ...     260.000000   \n",
       "mean                     18.392308   495.750000  ...      47.346154   \n",
       "std                      29.091653   577.026323  ...      28.252232   \n",
       "min                       0.000000     0.000000  ...       0.000000   \n",
       "25%                       2.000000   107.500000  ...      30.000000   \n",
       "50%                      11.000000   190.000000  ...      44.000000   \n",
       "75%                      21.250000   865.000000  ...      60.000000   \n",
       "max                     192.000000  3600.000000  ...     141.000000   \n",
       "\n",
       "       Carbohydrates (% Daily Value)  Dietary Fiber  \\\n",
       "count                     260.000000     260.000000   \n",
       "mean                       15.780769       1.630769   \n",
       "std                         9.419544       1.567717   \n",
       "min                         0.000000       0.000000   \n",
       "25%                        10.000000       0.000000   \n",
       "50%                        15.000000       1.000000   \n",
       "75%                        20.000000       3.000000   \n",
       "max                        47.000000       7.000000   \n",
       "\n",
       "       Dietary Fiber (% Daily Value)      Sugars     Protein  \\\n",
       "count                     260.000000  260.000000  260.000000   \n",
       "mean                        6.530769   29.423077   13.338462   \n",
       "std                         6.307057   28.679797   11.426146   \n",
       "min                         0.000000    0.000000    0.000000   \n",
       "25%                         0.000000    5.750000    4.000000   \n",
       "50%                         5.000000   17.500000   12.000000   \n",
       "75%                        10.000000   48.000000   19.000000   \n",
       "max                        28.000000  128.000000   87.000000   \n",
       "\n",
       "       Vitamin A (% Daily Value)  Vitamin C (% Daily Value)  \\\n",
       "count                 260.000000                 260.000000   \n",
       "mean                   13.426923                   8.534615   \n",
       "std                    24.366381                  26.345542   \n",
       "min                     0.000000                   0.000000   \n",
       "25%                     2.000000                   0.000000   \n",
       "50%                     8.000000                   0.000000   \n",
       "75%                    15.000000                   4.000000   \n",
       "max                   170.000000                 240.000000   \n",
       "\n",
       "       Calcium (% Daily Value)  Iron (% Daily Value)  \n",
       "count               260.000000            260.000000  \n",
       "mean                 20.973077              7.734615  \n",
       "std                  17.019953              8.723263  \n",
       "min                   0.000000              0.000000  \n",
       "25%                   6.000000              0.000000  \n",
       "50%                  20.000000              4.000000  \n",
       "75%                  30.000000             15.000000  \n",
       "max                  70.000000             40.000000  \n",
       "\n",
       "[8 rows x 21 columns]"
      ]
     },
     "execution_count": 4,
     "metadata": {},
     "output_type": "execute_result"
    }
   ],
   "source": [
    "df.shape\n",
    "df.info()\n",
    "df.describe()"
   ]
  },
  {
   "cell_type": "code",
   "execution_count": 5,
   "metadata": {},
   "outputs": [
    {
     "data": {
      "text/plain": [
       "Index(['Category', 'Item', 'Serving Size', 'Calories', 'Calories from Fat',\n",
       "       'Total Fat', 'Total Fat (% Daily Value)', 'Saturated Fat',\n",
       "       'Saturated Fat (% Daily Value)', 'Trans Fat', 'Cholesterol',\n",
       "       'Cholesterol (% Daily Value)', 'Sodium', 'Sodium (% Daily Value)',\n",
       "       'Carbohydrates', 'Carbohydrates (% Daily Value)', 'Dietary Fiber',\n",
       "       'Dietary Fiber (% Daily Value)', 'Sugars', 'Protein',\n",
       "       'Vitamin A (% Daily Value)', 'Vitamin C (% Daily Value)',\n",
       "       'Calcium (% Daily Value)', 'Iron (% Daily Value)'],\n",
       "      dtype='object')"
      ]
     },
     "execution_count": 5,
     "metadata": {},
     "output_type": "execute_result"
    }
   ],
   "source": [
    "df.columns"
   ]
  },
  {
   "cell_type": "code",
   "execution_count": 6,
   "metadata": {},
   "outputs": [
    {
     "data": {
      "text/plain": [
       "Coffee & Tea          95\n",
       "Breakfast             42\n",
       "Smoothies & Shakes    28\n",
       "Chicken & Fish        27\n",
       "Beverages             27\n",
       "Beef & Pork           15\n",
       "Snacks & Sides        13\n",
       "Desserts               7\n",
       "Salads                 6\n",
       "Name: Category, dtype: int64"
      ]
     },
     "execution_count": 6,
     "metadata": {},
     "output_type": "execute_result"
    }
   ],
   "source": [
    "df['Category'].value_counts()"
   ]
  },
  {
   "attachments": {},
   "cell_type": "markdown",
   "metadata": {},
   "source": [
    "We oberse that Coffee and Tea has been consumed heavily by the customers"
   ]
  },
  {
   "cell_type": "code",
   "execution_count": 7,
   "metadata": {},
   "outputs": [
    {
     "data": {
      "text/plain": [
       "False    260\n",
       "dtype: int64"
      ]
     },
     "execution_count": 7,
     "metadata": {},
     "output_type": "execute_result"
    }
   ],
   "source": [
    "df.duplicated().value_counts()\n"
   ]
  },
  {
   "attachments": {},
   "cell_type": "markdown",
   "metadata": {},
   "source": [
    "We observe that coffe and Tea has been heavily consumed by the custoners in McDonald's"
   ]
  },
  {
   "cell_type": "code",
   "execution_count": 8,
   "metadata": {},
   "outputs": [
    {
     "data": {
      "image/png": "[encoded data removed]",
      "text/plain": [
       "<Figure size 700x400 with 1 Axes>"
      ]
     },
     "metadata": {},
     "output_type": "display_data"
    }
   ],
   "source": [
    "plt.style.use('default')\n",
    "plt.figure(figsize=(7,4),edgecolor='0.1',dpi=100)\n",
    "a=sns.countplot(x='Category',facecolor='darkgreen',data=df)\n",
    "\n",
    "\n",
    "xticks=plt.xticks(rotation=55,family='serif')\n",
    "yticks=plt.yticks(family='serif')\n",
    "\n",
    "plt.xlabel(df['Category'].all(),font='serif')\n",
    "plt.ylabel('Count',font='serif')\n",
    "\n",
    "a.spines['bottom'].set_color('gray')\n",
    "a.spines['left'].set_color('gray')\n",
    "sns.despine()"
   ]
  },
  {
   "attachments": {},
   "cell_type": "markdown",
   "metadata": {},
   "source": [
    "Analysis of Number of Items per Category\n",
    "\n",
    "Below we notice that Coffee and Tea has the most number of items followed by breakfast "
   ]
  },
  {
   "cell_type": "code",
   "execution_count": 15,
   "metadata": {},
   "outputs": [
    {
     "data": {
      "application/vnd.plotly.v1+json": {
       "config": {
        "plotlyServerURL": "https://plot.ly"
       },
       "data": [
        {
         "coloraxis": "coloraxis",
         "hovertemplate": "Category=%{x}<br>Item=%{y}<br>count=%{z}<extra></extra>",
         "name": "",
         "type": "histogram2d",
         "x": [
          "Breakfast",
          "Breakfast",
          "Breakfast",
          "Breakfast",
          "Breakfast",
          "Breakfast",
          "Breakfast",
          "Breakfast",
          "Breakfast",
          "Breakfast",
          "Breakfast",
          "Breakfast",
          "Breakfast",
          "Breakfast",
          "Breakfast",
          "Breakfast",
          "Breakfast",
          "Breakfast",
          "Breakfast",
          "Breakfast",
          "Breakfast",
          "Breakfast",
          "Breakfast",
          "Breakfast",
          "Breakfast",
          "Breakfast",
          "Breakfast",
          "Breakfast",
          "Breakfast",
          "Breakfast",
          "Breakfast",
          "Breakfast",
          "Breakfast",
          "Breakfast",
          "Breakfast",
          "Breakfast",
          "Breakfast",
          "Breakfast",
          "Breakfast",
          "Breakfast",
          "Breakfast",
          "Breakfast",
          "Beef & Pork",
          "Beef & Pork",
          "Beef & Pork",
          "Beef & Pork",
          "Beef & Pork",
          "Beef & Pork",
          "Beef & Pork",
          "Beef & Pork",
          "Beef & Pork",
          "Beef & Pork",
          "Beef & Pork",
          "Beef & Pork",
          "Beef & Pork",
          "Beef & Pork",
          "Beef & Pork",
          "Chicken & Fish",
          "Chicken & Fish",
          "Chicken & Fish",
          "Chicken & Fish",
          "Chicken & Fish",
          "Chicken & Fish",
          "Chicken & Fish",
          "Chicken & Fish",
          "Chicken & Fish",
          "Chicken & Fish",
          "Chicken & Fish",
          "Chicken & Fish",
          "Chicken & Fish",
          "Chicken & Fish",
          "Chicken & Fish",
          "Chicken & Fish",
          "Chicken & Fish",
          "Chicken & Fish",
          "Chicken & Fish",
          "Chicken & Fish",
          "Chicken & Fish",
          "Chicken & Fish",
          "Chicken & Fish",
          "Chicken & Fish",
          "Chicken & Fish",
          "Chicken & Fish",
          "Chicken & Fish",
          "Salads",
          "Salads",
          "Salads",
          "Salads",
          "Salads",
          "Salads",
          "Snacks & Sides",
          "Snacks & Sides",
          "Snacks & Sides",
          "Snacks & Sides",
          "Snacks & Sides",
          "Snacks & Sides",
          "Snacks & Sides",
          "Snacks & Sides",
          "Snacks & Sides",
          "Snacks & Sides",
          "Snacks & Sides",
          "Snacks & Sides",
          "Snacks & Sides",
          "Desserts",
          "Desserts",
          "Desserts",
          "Desserts",
          "Desserts",
          "Desserts",
          "Desserts",
          "Beverages",
          "Beverages",
          "Beverages",
          "Beverages",
          "Beverages",
          "Beverages",
          "Beverages",
          "Beverages",
          "Beverages",
          "Beverages",
          "Beverages",
          "Beverages",
          "Beverages",
          "Beverages",
          "Beverages",
          "Beverages",
          "Beverages",
          "Beverages",
          "Beverages",
          "Beverages",
          "Beverages",
          "Beverages",
          "Beverages",
          "Beverages",
          "Beverages",
          "Beverages",
          "Beverages",
          "Coffee & Tea",
          "Coffee & Tea",
          "Coffee & Tea",
          "Coffee & Tea",
          "Coffee & Tea",
          "Coffee & Tea",
          "Coffee & Tea",
          "Coffee & Tea",
          "Coffee & Tea",
          "Coffee & Tea",
          "Coffee & Tea",
          "Coffee & Tea",
          "Coffee & Tea",
          "Coffee & Tea",
          "Coffee & Tea",
          "Coffee & Tea",
          "Coffee & Tea",
          "Coffee & Tea",
          "Coffee & Tea",
          "Coffee & Tea",
          "Coffee & Tea",
          "Coffee & Tea",
          "Coffee & Tea",
          "Coffee & Tea",
          "Coffee & Tea",
          "Coffee & Tea",
          "Coffee & Tea",
          "Coffee & Tea",
          "Coffee & Tea",
          "Coffee & Tea",
          "Coffee & Tea",
          "Coffee & Tea",
          "Coffee & Tea",
          "Coffee & Tea",
          "Coffee & Tea",
          "Coffee & Tea",
          "Coffee & Tea",
          "Coffee & Tea",
          "Coffee & Tea",
          "Coffee & Tea",
          "Coffee & Tea",
          "Coffee & Tea",
          "Coffee & Tea",
          "Coffee & Tea",
          "Coffee & Tea",
          "Coffee & Tea",
          "Coffee & Tea",
          "Coffee & Tea",
          "Coffee & Tea",
          "Coffee & Tea",
          "Coffee & Tea",
          "Coffee & Tea",
          "Coffee & Tea",
          "Coffee & Tea",
          "Coffee & Tea",
          "Coffee & Tea",
          "Coffee & Tea",
          "Coffee & Tea",
          "Coffee & Tea",
          "Coffee & Tea",
          "Coffee & Tea",
          "Coffee & Tea",
          "Coffee & Tea",
          "Coffee & Tea",
          "Coffee & Tea",
          "Coffee & Tea",
          "Coffee & Tea",
          "Coffee & Tea",
          "Coffee & Tea",
          "Coffee & Tea",
          "Coffee & Tea",
          "Coffee & Tea",
          "Coffee & Tea",
          "Coffee & Tea",
          "Coffee & Tea",
          "Coffee & Tea",
          "Coffee & Tea",
          "Coffee & Tea",
          "Coffee & Tea",
          "Coffee & Tea",
          "Coffee & Tea",
          "Coffee & Tea",
          "Coffee & Tea",
          "Coffee & Tea",
          "Coffee & Tea",
          "Coffee & Tea",
          "Coffee & Tea",
          "Coffee & Tea",
          "Coffee & Tea",
          "Coffee & Tea",
          "Coffee & Tea",
          "Coffee & Tea",
          "Coffee & Tea",
          "Coffee & Tea",
          "Coffee & Tea",
          "Smoothies & Shakes",
          "Smoothies & Shakes",
          "Smoothies & Shakes",
          "Smoothies & Shakes",
          "Smoothies & Shakes",
          "Smoothies & Shakes",
          "Smoothies & Shakes",
          "Smoothies & Shakes",
          "Smoothies & Shakes",
          "Smoothies & Shakes",
          "Smoothies & Shakes",
          "Smoothies & Shakes",
          "Smoothies & Shakes",
          "Smoothies & Shakes",
          "Smoothies & Shakes",
          "Smoothies & Shakes",
          "Smoothies & Shakes",
          "Smoothies & Shakes",
          "Smoothies & Shakes",
          "Smoothies & Shakes",
          "Smoothies & Shakes",
          "Smoothies & Shakes",
          "Smoothies & Shakes",
          "Smoothies & Shakes",
          "Smoothies & Shakes",
          "Smoothies & Shakes",
          "Smoothies & Shakes",
          "Smoothies & Shakes"
         ],
         "xaxis": "x",
         "xbingroup": "x",
         "y": [
          "Egg McMuffin",
          "Egg White Delight",
          "Sausage McMuffin",
          "Sausage McMuffin with Egg",
          "Sausage McMuffin with Egg Whites",
          "Steak & Egg McMuffin",
          "Bacon, Egg & Cheese Biscuit (Regular Biscuit)",
          "Bacon, Egg & Cheese Biscuit (Large Biscuit)",
          "Bacon, Egg & Cheese Biscuit with Egg Whites (Regular Biscuit)",
          "Bacon, Egg & Cheese Biscuit with Egg Whites (Large Biscuit)",
          "Sausage Biscuit (Regular Biscuit)",
          "Sausage Biscuit (Large Biscuit)",
          "Sausage Biscuit with Egg (Regular Biscuit)",
          "Sausage Biscuit with Egg (Large Biscuit)",
          "Sausage Biscuit with Egg Whites (Regular Biscuit)",
          "Sausage Biscuit with Egg Whites (Large Biscuit)",
          "Southern Style Chicken Biscuit (Regular Biscuit)",
          "Southern Style Chicken Biscuit (Large Biscuit)",
          "Steak & Egg Biscuit (Regular Biscuit)",
          "Bacon, Egg & Cheese McGriddles",
          "Bacon, Egg & Cheese McGriddles with Egg Whites",
          "Sausage McGriddles",
          "Sausage, Egg & Cheese McGriddles",
          "Sausage, Egg & Cheese McGriddles with Egg Whites",
          "Bacon, Egg & Cheese Bagel",
          "Bacon, Egg & Cheese Bagel with Egg Whites",
          "Steak, Egg & Cheese Bagel",
          "Big Breakfast (Regular Biscuit)",
          "Big Breakfast (Large Biscuit)",
          "Big Breakfast with Egg Whites (Regular Biscuit)",
          "Big Breakfast with Egg Whites (Large Biscuit)",
          "Big Breakfast with Hotcakes (Regular Biscuit)",
          "Big Breakfast with Hotcakes (Large Biscuit)",
          "Big Breakfast with Hotcakes and Egg Whites (Regular Biscuit)",
          "Big Breakfast with Hotcakes and Egg Whites (Large Biscuit)",
          "Hotcakes",
          "Hotcakes and Sausage",
          "Sausage Burrito",
          "Hash Brown",
          "Cinnamon Melts",
          "Fruit & Maple Oatmeal",
          "Fruit & Maple Oatmeal without Brown Sugar",
          "Big Mac",
          "Quarter Pounder with Cheese",
          "Quarter Pounder with Bacon & Cheese",
          "Quarter Pounder with Bacon Habanero Ranch",
          "Quarter Pounder Deluxe",
          "Double Quarter Pounder with Cheese",
          "Hamburger",
          "Cheeseburger",
          "Double Cheeseburger",
          "Bacon Clubhouse Burger",
          "McDouble",
          "Bacon McDouble",
          "Daily Double",
          "Jalapeño Double",
          "McRib",
          "Premium Crispy Chicken Classic Sandwich",
          "Premium Grilled Chicken Classic Sandwich",
          "Premium Crispy Chicken Club Sandwich",
          "Premium Grilled Chicken Club Sandwich",
          "Premium Crispy Chicken Ranch BLT Sandwich",
          "Premium Grilled Chicken Ranch BLT Sandwich",
          "Bacon Clubhouse Crispy Chicken Sandwich",
          "Bacon Clubhouse Grilled Chicken Sandwich",
          "Southern Style Crispy Chicken Sandwich",
          "McChicken",
          "Bacon Cheddar McChicken",
          "Bacon Buffalo Ranch McChicken",
          "Buffalo Ranch McChicken",
          "Premium McWrap Chicken & Bacon (Crispy Chicken)",
          "Premium McWrap Chicken & Bacon (Grilled Chicken)",
          "Premium McWrap Chicken & Ranch (Crispy Chicken)",
          "Premium McWrap Chicken & Ranch (Grilled Chicken)",
          "Premium McWrap Southwest Chicken (Crispy Chicken)",
          "Premium McWrap Southwest Chicken (Grilled Chicken)",
          "Premium McWrap Chicken Sweet Chili (Crispy Chicken)",
          "Premium McWrap Chicken Sweet Chili (Grilled Chicken)",
          "Chicken McNuggets (4 piece)",
          "Chicken McNuggets (6 piece)",
          "Chicken McNuggets (10 piece)",
          "Chicken McNuggets (20 piece)",
          "Chicken McNuggets (40 piece)",
          "Filet-O-Fish",
          "Premium Bacon Ranch Salad (without Chicken)",
          "Premium Bacon Ranch Salad with Crispy Chicken",
          "Premium Bacon Ranch Salad with Grilled Chicken",
          "Premium Southwest Salad (without Chicken)",
          "Premium Southwest Salad with Crispy Chicken",
          "Premium Southwest Salad with Grilled Chicken",
          "Chipotle BBQ Snack Wrap (Crispy Chicken)",
          "Chipotle BBQ Snack Wrap (Grilled Chicken)",
          "Honey Mustard Snack Wrap (Crispy Chicken)",
          "Honey Mustard Snack Wrap (Grilled Chicken)",
          "Ranch Snack Wrap (Crispy Chicken)",
          "Ranch Snack Wrap (Grilled Chicken)",
          "Small French Fries",
          "Medium French Fries",
          "Large French Fries",
          "Kids French Fries",
          "Side Salad",
          "Apple Slices",
          "Fruit 'n Yogurt Parfait",
          "Baked Apple Pie",
          "Chocolate Chip Cookie",
          "Oatmeal Raisin Cookie",
          "Kids Ice Cream Cone",
          "Hot Fudge Sundae",
          "Hot Caramel Sundae",
          "Strawberry Sundae",
          "Coca-Cola Classic (Small)",
          "Coca-Cola Classic (Medium)",
          "Coca-Cola Classic (Large)",
          "Coca-Cola Classic (Child)",
          "Diet Coke (Small)",
          "Diet Coke (Medium)",
          "Diet Coke (Large)",
          "Diet Coke (Child)",
          "Dr Pepper (Small)",
          "Dr Pepper (Medium)",
          "Dr Pepper (Large)",
          "Dr Pepper (Child)",
          "Diet Dr Pepper (Small)",
          "Diet Dr Pepper (Medium)",
          "Diet Dr Pepper (Large)",
          "Diet Dr Pepper (Child)",
          "Sprite (Small)",
          "Sprite (Medium)",
          "Sprite (Large)",
          "Sprite (Child)",
          "1% Low Fat Milk Jug",
          "Fat Free Chocolate Milk Jug",
          "Minute Maid 100% Apple Juice Box",
          "Minute Maid Orange Juice (Small)",
          "Minute Maid Orange Juice (Medium)",
          "Minute Maid Orange Juice (Large)",
          "Dasani Water Bottle",
          "Iced Tea (Small)",
          "Iced Tea (Medium)",
          "Iced Tea (Large)",
          "Iced Tea (Child)",
          "Sweet Tea (Small)",
          "Sweet Tea (Medium)",
          "Sweet Tea (Large)",
          "Sweet Tea (Child)",
          "Coffee (Small)",
          "Coffee (Medium)",
          "Coffee (Large)",
          "Latte (Small)",
          "Latte (Medium)",
          "Latte (Large)",
          "Caramel Latte (Small)",
          "Caramel Latte (Medium)",
          "Caramel Latte (Large)",
          "Hazelnut Latte (Small)",
          "Hazelnut Latte (Medium)",
          "Hazelnut Latte (Large)",
          "French Vanilla Latte (Small)",
          "French Vanilla Latte (Medium)",
          "French Vanilla Latte (Large)",
          "Latte with Sugar Free French Vanilla Syrup (Small)",
          "Latte with Sugar Free French Vanilla Syrup (Medium)",
          "Latte with Sugar Free French Vanilla Syrup (Large)",
          "Nonfat Latte (Small)",
          "Nonfat Latte (Medium)",
          "Nonfat Latte (Large)",
          "Nonfat Caramel Latte (Small)",
          "Nonfat Caramel Latte (Medium)",
          "Nonfat Caramel Latte (Large)",
          "Nonfat Hazelnut Latte (Small)",
          "Nonfat Hazelnut Latte (Medium)",
          "Nonfat Hazelnut Latte (Large)",
          "Nonfat French Vanilla Latte (Small)",
          "Nonfat French Vanilla Latte (Medium)",
          "Nonfat French Vanilla Latte (Large)",
          "Nonfat Latte with Sugar Free French Vanilla Syrup (Small)",
          "Nonfat Latte with Sugar Free French Vanilla Syrup (Medium)",
          "Nonfat Latte with Sugar Free French Vanilla Syrup (Large)",
          "Mocha (Small)",
          "Mocha (Medium)",
          "Mocha (Large)",
          "Mocha with Nonfat Milk (Small)",
          "Mocha with Nonfat Milk (Medium)",
          "Mocha with Nonfat Milk (Large)",
          "Caramel Mocha (Small)",
          "Caramel Mocha (Medium)",
          "Caramel Mocha (Large)",
          "Nonfat Caramel Mocha (Small)",
          "Nonfat Caramel Mocha (Medium)",
          "Nonfat Caramel Mocha (Large)",
          "Hot Chocolate (Small)",
          "Hot Chocolate (Medium)",
          "Hot Chocolate (Large)",
          "Hot Chocolate with Nonfat Milk (Small)",
          "Hot Chocolate with Nonfat Milk (Medium)",
          "Hot Chocolate with Nonfat Milk (Large)",
          "Regular Iced Coffee (Small)",
          "Regular Iced Coffee (Medium)",
          "Regular Iced Coffee (Large)",
          "Caramel Iced Coffee (Small)",
          "Caramel Iced Coffee (Medium)",
          "Caramel Iced Coffee (Large)",
          "Hazelnut Iced Coffee (Small)",
          "Hazelnut Iced Coffee (Medium)",
          "Hazelnut Iced Coffee (Large)",
          "French Vanilla Iced Coffee (Small)",
          "French Vanilla Iced Coffee (Medium)",
          "French Vanilla Iced Coffee (Large)",
          "Iced Coffee with Sugar Free French Vanilla Syrup (Small)",
          "Iced Coffee with Sugar Free French Vanilla Syrup (Medium)",
          "Iced Coffee with Sugar Free French Vanilla Syrup (Large)",
          "Iced Mocha (Small)",
          "Iced Mocha (Medium)",
          "Iced Mocha (Large)",
          "Iced Mocha with Nonfat Milk (Small)",
          "Iced Mocha with Nonfat Milk (Medium)",
          "Iced Mocha with Nonfat Milk (Large)",
          "Iced Caramel Mocha (Small)",
          "Iced Caramel Mocha (Medium)",
          "Iced Caramel Mocha (Large)",
          "Iced Nonfat Caramel Mocha (Small)",
          "Iced Nonfat Caramel Mocha (Medium)",
          "Iced Nonfat Caramel Mocha (Large)",
          "Frappé Mocha (Small)",
          "Frappé Mocha (Medium)",
          "Frappé Mocha (Large)",
          "Frappé Caramel (Small)",
          "Frappé Caramel (Medium)",
          "Frappé Caramel (Large)",
          "Frappé Chocolate Chip (Small)",
          "Frappé Chocolate Chip (Medium)",
          "Frappé Chocolate Chip (Large)",
          "Blueberry Pomegranate Smoothie (Small)",
          "Blueberry Pomegranate Smoothie (Medium)",
          "Blueberry Pomegranate Smoothie (Large)",
          "Strawberry Banana Smoothie (Small)",
          "Strawberry Banana Smoothie (Medium)",
          "Strawberry Banana Smoothie (Large)",
          "Mango Pineapple Smoothie (Small)",
          "Mango Pineapple Smoothie (Medium)",
          "Mango Pineapple Smoothie (Large)",
          "Vanilla Shake (Small)",
          "Vanilla Shake (Medium)",
          "Vanilla Shake (Large)",
          "Strawberry Shake (Small)",
          "Strawberry Shake (Medium)",
          "Strawberry Shake (Large)",
          "Chocolate Shake (Small)",
          "Chocolate Shake (Medium)",
          "Chocolate Shake (Large)",
          "Shamrock Shake (Medium)",
          "Shamrock Shake (Large)",
          "McFlurry with M&M’s Candies (Small)",
          "McFlurry with M&M’s Candies (Medium)",
          "McFlurry with M&M’s Candies (Snack)",
          "McFlurry with Oreo Cookies (Small)",
          "McFlurry with Oreo Cookies (Medium)",
          "McFlurry with Oreo Cookies (Snack)",
          "McFlurry with Reese's Peanut Butter Cups (Medium)",
          "McFlurry with Reese's Peanut Butter Cups (Snack)"
         ],
         "yaxis": "y",
         "ybingroup": "y"
        }
       ],
       "layout": {
        "coloraxis": {
         "colorbar": {
          "title": {
           "text": "count"
          }
         },
         "colorscale": [
          [
           0,
           "#0d0887"
          ],
          [
           0.1111111111111111,
           "#46039f"
          ],
          [
           0.2222222222222222,
           "#7201a8"
          ],
          [
           0.3333333333333333,
           "#9c179e"
          ],
          [
           0.4444444444444444,
           "#bd3786"
          ],
          [
           0.5555555555555556,
           "#d8576b"
          ],
          [
           0.6666666666666666,
           "#ed7953"
          ],
          [
           0.7777777777777778,
           "#fb9f3a"
          ],
          [
           0.8888888888888888,
           "#fdca26"
          ],
          [
           1,
           "#f0f921"
          ]
         ]
        },
        "legend": {
         "tracegroupgap": 0
        },
        "margin": {
         "t": 60
        },
        "template": {
         "data": {
          "bar": [
           {
            "error_x": {
             "color": "#2a3f5f"
            },
            "error_y": {
             "color": "#2a3f5f"
            },
            "marker": {
             "line": {
              "color": "#E5ECF6",
              "width": 0.5
             },
             "pattern": {
              "fillmode": "overlay",
              "size": 10,
              "solidity": 0.2
             }
            },
            "type": "bar"
           }
          ],
          "barpolar": [
           {
            "marker": {
             "line": {
              "color": "#E5ECF6",
              "width": 0.5
             },
             "pattern": {
              "fillmode": "overlay",
              "size": 10,
              "solidity": 0.2
             }
            },
            "type": "barpolar"
           }
          ],
          "carpet": [
           {
            "aaxis": {
             "endlinecolor": "#2a3f5f",
             "gridcolor": "white",
             "linecolor": "white",
             "minorgridcolor": "white",
             "startlinecolor": "#2a3f5f"
            },
            "baxis": {
             "endlinecolor": "#2a3f5f",
             "gridcolor": "white",
             "linecolor": "white",
             "minorgridcolor": "white",
             "startlinecolor": "#2a3f5f"
            },
            "type": "carpet"
           }
          ],
          "choropleth": [
           {
            "colorbar": {
             "outlinewidth": 0,
             "ticks": ""
            },
            "type": "choropleth"
           }
          ],
          "contour": [
           {
            "colorbar": {
             "outlinewidth": 0,
             "ticks": ""
            },
            "colorscale": [
             [
              0,
              "#0d0887"
             ],
             [
              0.1111111111111111,
              "#46039f"
             ],
             [
              0.2222222222222222,
              "#7201a8"
             ],
             [
              0.3333333333333333,
              "#9c179e"
             ],
             [
              0.4444444444444444,
              "#bd3786"
             ],
             [
              0.5555555555555556,
              "#d8576b"
             ],
             [
              0.6666666666666666,
              "#ed7953"
             ],
             [
              0.7777777777777778,
              "#fb9f3a"
             ],
             [
              0.8888888888888888,
              "#fdca26"
             ],
             [
              1,
              "#f0f921"
             ]
            ],
            "type": "contour"
           }
          ],
          "contourcarpet": [
           {
            "colorbar": {
             "outlinewidth": 0,
             "ticks": ""
            },
            "type": "contourcarpet"
           }
          ],
          "heatmap": [
           {
            "colorbar": {
             "outlinewidth": 0,
             "ticks": ""
            },
            "colorscale": [
             [
              0,
              "#0d0887"
             ],
             [
              0.1111111111111111,
              "#46039f"
             ],
             [
              0.2222222222222222,
              "#7201a8"
             ],
             [
              0.3333333333333333,
              "#9c179e"
             ],
             [
              0.4444444444444444,
              "#bd3786"
             ],
             [
              0.5555555555555556,
              "#d8576b"
             ],
             [
              0.6666666666666666,
              "#ed7953"
             ],
             [
              0.7777777777777778,
              "#fb9f3a"
             ],
             [
              0.8888888888888888,
              "#fdca26"
             ],
             [
              1,
              "#f0f921"
             ]
            ],
            "type": "heatmap"
           }
          ],
          "heatmapgl": [
           {
            "colorbar": {
             "outlinewidth": 0,
             "ticks": ""
            },
            "colorscale": [
             [
              0,
              "#0d0887"
             ],
             [
              0.1111111111111111,
              "#46039f"
             ],
             [
              0.2222222222222222,
              "#7201a8"
             ],
             [
              0.3333333333333333,
              "#9c179e"
             ],
             [
              0.4444444444444444,
              "#bd3786"
             ],
             [
              0.5555555555555556,
              "#d8576b"
             ],
             [
              0.6666666666666666,
              "#ed7953"
             ],
             [
              0.7777777777777778,
              "#fb9f3a"
             ],
             [
              0.8888888888888888,
              "#fdca26"
             ],
             [
              1,
              "#f0f921"
             ]
            ],
            "type": "heatmapgl"
           }
          ],
          "histogram": [
           {
            "marker": {
             "pattern": {
              "fillmode": "overlay",
              "size": 10,
              "solidity": 0.2
             }
            },
            "type": "histogram"
           }
          ],
          "histogram2d": [
           {
            "colorbar": {
             "outlinewidth": 0,
             "ticks": ""
            },
            "colorscale": [
             [
              0,
              "#0d0887"
             ],
             [
              0.1111111111111111,
              "#46039f"
             ],
             [
              0.2222222222222222,
              "#7201a8"
             ],
             [
              0.3333333333333333,
              "#9c179e"
             ],
             [
              0.4444444444444444,
              "#bd3786"
             ],
             [
              0.5555555555555556,
              "#d8576b"
             ],
             [
              0.6666666666666666,
              "#ed7953"
             ],
             [
              0.7777777777777778,
              "#fb9f3a"
             ],
             [
              0.8888888888888888,
              "#fdca26"
             ],
             [
              1,
              "#f0f921"
             ]
            ],
            "type": "histogram2d"
           }
          ],
          "histogram2dcontour": [
           {
            "colorbar": {
             "outlinewidth": 0,
             "ticks": ""
            },
            "colorscale": [
             [
              0,
              "#0d0887"
             ],
             [
              0.1111111111111111,
              "#46039f"
             ],
             [
              0.2222222222222222,
              "#7201a8"
             ],
             [
              0.3333333333333333,
              "#9c179e"
             ],
             [
              0.4444444444444444,
              "#bd3786"
             ],
             [
              0.5555555555555556,
              "#d8576b"
             ],
             [
              0.6666666666666666,
              "#ed7953"
             ],
             [
              0.7777777777777778,
              "#fb9f3a"
             ],
             [
              0.8888888888888888,
              "#fdca26"
             ],
             [
              1,
              "#f0f921"
             ]
            ],
            "type": "histogram2dcontour"
           }
          ],
          "mesh3d": [
           {
            "colorbar": {
             "outlinewidth": 0,
             "ticks": ""
            },
            "type": "mesh3d"
           }
          ],
          "parcoords": [
           {
            "line": {
             "colorbar": {
              "outlinewidth": 0,
              "ticks": ""
             }
            },
            "type": "parcoords"
           }
          ],
          "pie": [
           {
            "automargin": true,
            "type": "pie"
           }
          ],
          "scatter": [
           {
            "fillpattern": {
             "fillmode": "overlay",
             "size": 10,
             "solidity": 0.2
            },
            "type": "scatter"
           }
          ],
          "scatter3d": [
           {
            "line": {
             "colorbar": {
              "outlinewidth": 0,
              "ticks": ""
             }
            },
            "marker": {
             "colorbar": {
              "outlinewidth": 0,
              "ticks": ""
             }
            },
            "type": "scatter3d"
           }
          ],
          "scattercarpet": [
           {
            "marker": {
             "colorbar": {
              "outlinewidth": 0,
              "ticks": ""
             }
            },
            "type": "scattercarpet"
           }
          ],
          "scattergeo": [
           {
            "marker": {
             "colorbar": {
              "outlinewidth": 0,
              "ticks": ""
             }
            },
            "type": "scattergeo"
           }
          ],
          "scattergl": [
           {
            "marker": {
             "colorbar": {
              "outlinewidth": 0,
              "ticks": ""
             }
            },
            "type": "scattergl"
           }
          ],
          "scattermapbox": [
           {
            "marker": {
             "colorbar": {
              "outlinewidth": 0,
              "ticks": ""
             }
            },
            "type": "scattermapbox"
           }
          ],
          "scatterpolar": [
           {
            "marker": {
             "colorbar": {
              "outlinewidth": 0,
              "ticks": ""
             }
            },
            "type": "scatterpolar"
           }
          ],
          "scatterpolargl": [
           {
            "marker": {
             "colorbar": {
              "outlinewidth": 0,
              "ticks": ""
             }
            },
            "type": "scatterpolargl"
           }
          ],
          "scatterternary": [
           {
            "marker": {
             "colorbar": {
              "outlinewidth": 0,
              "ticks": ""
             }
            },
            "type": "scatterternary"
           }
          ],
          "surface": [
           {
            "colorbar": {
             "outlinewidth": 0,
             "ticks": ""
            },
            "colorscale": [
             [
              0,
              "#0d0887"
             ],
             [
              0.1111111111111111,
              "#46039f"
             ],
             [
              0.2222222222222222,
              "#7201a8"
             ],
             [
              0.3333333333333333,
              "#9c179e"
             ],
             [
              0.4444444444444444,
              "#bd3786"
             ],
             [
              0.5555555555555556,
              "#d8576b"
             ],
             [
              0.6666666666666666,
              "#ed7953"
             ],
             [
              0.7777777777777778,
              "#fb9f3a"
             ],
             [
              0.8888888888888888,
              "#fdca26"
             ],
             [
              1,
              "#f0f921"
             ]
            ],
            "type": "surface"
           }
          ],
          "table": [
           {
            "cells": {
             "fill": {
              "color": "#EBF0F8"
             },
             "line": {
              "color": "white"
             }
            },
            "header": {
             "fill": {
              "color": "#C8D4E3"
             },
             "line": {
              "color": "white"
             }
            },
            "type": "table"
           }
          ]
         },
         "layout": {
          "annotationdefaults": {
           "arrowcolor": "#2a3f5f",
           "arrowhead": 0,
           "arrowwidth": 1
          },
          "autotypenumbers": "strict",
          "coloraxis": {
           "colorbar": {
            "outlinewidth": 0,
            "ticks": ""
           }
          },
          "colorscale": {
           "diverging": [
            [
             0,
             "#8e0152"
            ],
            [
             0.1,
             "#c51b7d"
            ],
            [
             0.2,
             "#de77ae"
            ],
            [
             0.3,
             "#f1b6da"
            ],
            [
             0.4,
             "#fde0ef"
            ],
            [
             0.5,
             "#f7f7f7"
            ],
            [
             0.6,
             "#e6f5d0"
            ],
            [
             0.7,
             "#b8e186"
            ],
            [
             0.8,
             "#7fbc41"
            ],
            [
             0.9,
             "#4d9221"
            ],
            [
             1,
             "#276419"
            ]
           ],
           "sequential": [
            [
             0,
             "#0d0887"
            ],
            [
             0.1111111111111111,
             "#46039f"
            ],
            [
             0.2222222222222222,
             "#7201a8"
            ],
            [
             0.3333333333333333,
             "#9c179e"
            ],
            [
             0.4444444444444444,
             "#bd3786"
            ],
            [
             0.5555555555555556,
             "#d8576b"
            ],
            [
             0.6666666666666666,
             "#ed7953"
            ],
            [
             0.7777777777777778,
             "#fb9f3a"
            ],
            [
             0.8888888888888888,
             "#fdca26"
            ],
            [
             1,
             "#f0f921"
            ]
           ],
           "sequentialminus": [
            [
             0,
             "#0d0887"
            ],
            [
             0.1111111111111111,
             "#46039f"
            ],
            [
             0.2222222222222222,
             "#7201a8"
            ],
            [
             0.3333333333333333,
             "#9c179e"
            ],
            [
             0.4444444444444444,
             "#bd3786"
            ],
            [
             0.5555555555555556,
             "#d8576b"
            ],
            [
             0.6666666666666666,
             "#ed7953"
            ],
            [
             0.7777777777777778,
             "#fb9f3a"
            ],
            [
             0.8888888888888888,
             "#fdca26"
            ],
            [
             1,
             "#f0f921"
            ]
           ]
          },
          "colorway": [
           "#636efa",
           "#EF553B",
           "#00cc96",
           "#ab63fa",
           "#FFA15A",
           "#19d3f3",
           "#FF6692",
           "#B6E880",
           "#FF97FF",
           "#FECB52"
          ],
          "font": {
           "color": "#2a3f5f"
          },
          "geo": {
           "bgcolor": "white",
           "lakecolor": "white",
           "landcolor": "#E5ECF6",
           "showlakes": true,
           "showland": true,
           "subunitcolor": "white"
          },
          "hoverlabel": {
           "align": "left"
          },
          "hovermode": "closest",
          "mapbox": {
           "style": "light"
          },
          "paper_bgcolor": "white",
          "plot_bgcolor": "#E5ECF6",
          "polar": {
           "angularaxis": {
            "gridcolor": "white",
            "linecolor": "white",
            "ticks": ""
           },
           "bgcolor": "#E5ECF6",
           "radialaxis": {
            "gridcolor": "white",
            "linecolor": "white",
            "ticks": ""
           }
          },
          "scene": {
           "xaxis": {
            "backgroundcolor": "#E5ECF6",
            "gridcolor": "white",
            "gridwidth": 2,
            "linecolor": "white",
            "showbackground": true,
            "ticks": "",
            "zerolinecolor": "white"
           },
           "yaxis": {
            "backgroundcolor": "#E5ECF6",
            "gridcolor": "white",
            "gridwidth": 2,
            "linecolor": "white",
            "showbackground": true,
            "ticks": "",
            "zerolinecolor": "white"
           },
           "zaxis": {
            "backgroundcolor": "#E5ECF6",
            "gridcolor": "white",
            "gridwidth": 2,
            "linecolor": "white",
            "showbackground": true,
            "ticks": "",
            "zerolinecolor": "white"
           }
          },
          "shapedefaults": {
           "line": {
            "color": "#2a3f5f"
           }
          },
          "ternary": {
           "aaxis": {
            "gridcolor": "white",
            "linecolor": "white",
            "ticks": ""
           },
           "baxis": {
            "gridcolor": "white",
            "linecolor": "white",
            "ticks": ""
           },
           "bgcolor": "#E5ECF6",
           "caxis": {
            "gridcolor": "white",
            "linecolor": "white",
            "ticks": ""
           }
          },
          "title": {
           "x": 0.05
          },
          "xaxis": {
           "automargin": true,
           "gridcolor": "white",
           "linecolor": "white",
           "ticks": "",
           "title": {
            "standoff": 15
           },
           "zerolinecolor": "white",
           "zerolinewidth": 2
          },
          "yaxis": {
           "automargin": true,
           "gridcolor": "white",
           "linecolor": "white",
           "ticks": "",
           "title": {
            "standoff": 15
           },
           "zerolinecolor": "white",
           "zerolinewidth": 2
          }
         }
        },
        "width": 900,
        "xaxis": {
         "anchor": "y",
         "domain": [
          0,
          1
         ],
         "title": {
          "text": "Category"
         }
        },
        "yaxis": {
         "anchor": "x",
         "domain": [
          0,
          1
         ],
         "title": {
          "text": "Item"
         }
        }
       }
      }
     },
     "metadata": {},
     "output_type": "display_data"
    }
   ],
   "source": [
    "px.density_heatmap(x='Category',y='Item',data_frame=df,width=900)"
   ]
  },
  {
   "attachments": {},
   "cell_type": "markdown",
   "metadata": {},
   "source": [
    "Calories Analysis for Items per category\n",
    "\n",
    "We notice that 'Chicken and Fish' followed by Breakfast and 'Smoothies and Shakes'"
   ]
  },
  {
   "cell_type": "code",
   "execution_count": 35,
   "metadata": {},
   "outputs": [
    {
     "data": {
      "text/html": [
       "<div>\n",
       "<style scoped>\n",
       "    .dataframe tbody tr th:only-of-type {\n",
       "        vertical-align: middle;\n",
       "    }\n",
       "\n",
       "    .dataframe tbody tr th {\n",
       "        vertical-align: top;\n",
       "    }\n",
       "\n",
       "    .dataframe thead th {\n",
       "        text-align: right;\n",
       "    }\n",
       "</style>\n",
       "<table border=\"1\" class=\"dataframe\">\n",
       "  <thead>\n",
       "    <tr style=\"text-align: right;\">\n",
       "      <th></th>\n",
       "      <th>Category</th>\n",
       "      <th>Calories</th>\n",
       "    </tr>\n",
       "  </thead>\n",
       "  <tbody>\n",
       "    <tr>\n",
       "      <th>0</th>\n",
       "      <td>Beverages</td>\n",
       "      <td>113.703704</td>\n",
       "    </tr>\n",
       "    <tr>\n",
       "      <th>1</th>\n",
       "      <td>Desserts</td>\n",
       "      <td>222.142857</td>\n",
       "    </tr>\n",
       "    <tr>\n",
       "      <th>2</th>\n",
       "      <td>Snacks &amp; Sides</td>\n",
       "      <td>245.769231</td>\n",
       "    </tr>\n",
       "    <tr>\n",
       "      <th>3</th>\n",
       "      <td>Salads</td>\n",
       "      <td>270.000000</td>\n",
       "    </tr>\n",
       "    <tr>\n",
       "      <th>4</th>\n",
       "      <td>Coffee &amp; Tea</td>\n",
       "      <td>283.894737</td>\n",
       "    </tr>\n",
       "    <tr>\n",
       "      <th>5</th>\n",
       "      <td>Beef &amp; Pork</td>\n",
       "      <td>494.000000</td>\n",
       "    </tr>\n",
       "    <tr>\n",
       "      <th>6</th>\n",
       "      <td>Breakfast</td>\n",
       "      <td>526.666667</td>\n",
       "    </tr>\n",
       "    <tr>\n",
       "      <th>7</th>\n",
       "      <td>Smoothies &amp; Shakes</td>\n",
       "      <td>531.428571</td>\n",
       "    </tr>\n",
       "    <tr>\n",
       "      <th>8</th>\n",
       "      <td>Chicken &amp; Fish</td>\n",
       "      <td>552.962963</td>\n",
       "    </tr>\n",
       "  </tbody>\n",
       "</table>\n",
       "</div>"
      ],
      "text/plain": [
       "             Category    Calories\n",
       "0           Beverages  113.703704\n",
       "1            Desserts  222.142857\n",
       "2      Snacks & Sides  245.769231\n",
       "3              Salads  270.000000\n",
       "4        Coffee & Tea  283.894737\n",
       "5         Beef & Pork  494.000000\n",
       "6           Breakfast  526.666667\n",
       "7  Smoothies & Shakes  531.428571\n",
       "8      Chicken & Fish  552.962963"
      ]
     },
     "execution_count": 35,
     "metadata": {},
     "output_type": "execute_result"
    }
   ],
   "source": [
    "calories=pd.DataFrame(df.groupby('Category')['Calories'].mean().sort_values())\n",
    "calories.reset_index(inplace=True)\n",
    "calories"
   ]
  },
  {
   "cell_type": "code",
   "execution_count": 36,
   "metadata": {},
   "outputs": [
    {
     "data": {
      "image/png": "[encoded data removed]",
      "text/plain": [
       "<Figure size 640x480 with 1 Axes>"
      ]
     },
     "metadata": {},
     "output_type": "display_data"
    }
   ],
   "source": [
    "fig, ax = plt.subplots()\n",
    "ax.yaxis.grid(linestyle='dashed',color='gray')\n",
    "ax.bar(calories['Category'], calories['Calories'])\n",
    "xticks=plt.xticks(rotation=-55,family='serif')\n",
    "yticks=plt.yticks(family='serif')\n",
    "ax.set_xlabel('Category')\n",
    "ax.set_ylabel('Average calories')\n",
    "ax.set_title('Average Calories for each category')\n",
    "\n",
    "\n",
    "# Display the chart\n",
    "plt.show()"
   ]
  },
  {
   "attachments": {},
   "cell_type": "markdown",
   "metadata": {},
   "source": [
    "FAT Analysis\n",
    "\n",
    "Below we notice that Breakfast accounts for the highest Average Total Fat followed by Chicken and Fish and Beef and Pork."
   ]
  },
  {
   "cell_type": "code",
   "execution_count": 53,
   "metadata": {},
   "outputs": [
    {
     "data": {
      "image/png": "[encoded data removed]",
      "text/plain": [
       "<Figure size 640x480 with 1 Axes>"
      ]
     },
     "metadata": {},
     "output_type": "display_data"
    }
   ],
   "source": [
    "df_fat=pd.DataFrame(df.groupby('Category')['Total Fat'].mean().sort_values())\n",
    "df_fat.reset_index(inplace=True)\n",
    "fig, ax = plt.subplots()\n",
    "ax.yaxis.grid(linestyle='dashed',color='gray')\n",
    "ax.bar(df_fat['Category'], df_fat['Total Fat'])\n",
    "xticks=plt.xticks(rotation=-55,family='serif')\n",
    "yticks=plt.yticks(family='serif')\n",
    "ax.set_xlabel('Category')\n",
    "ax.set_ylabel('Average Total Fat')\n",
    "ax.set_title('Average Fat for each category')\n",
    "plt.show()"
   ]
  },
  {
   "attachments": {},
   "cell_type": "markdown",
   "metadata": {},
   "source": [
    "Carbohydrates\n",
    "\n",
    "We see that Smoothies & Shakes have the highest Average Carbohydrates as compared to other Categories in the menu"
   ]
  },
  {
   "cell_type": "code",
   "execution_count": 55,
   "metadata": {},
   "outputs": [
    {
     "data": {
      "image/png": "[encoded data removed]",
      "text/plain": [
       "<Figure size 640x480 with 1 Axes>"
      ]
     },
     "metadata": {},
     "output_type": "display_data"
    }
   ],
   "source": [
    "df_carb=pd.DataFrame(df.groupby('Category')['Carbohydrates'].mean().sort_values())\n",
    "df_carb.reset_index(inplace=True)\n",
    "fig, ax = plt.subplots()\n",
    "ax.yaxis.grid(linestyle='dashed',color='gray')\n",
    "ax.bar(df_carb['Category'], df_carb['Carbohydrates'])\n",
    "xticks=plt.xticks(rotation=-55,family='serif')\n",
    "yticks=plt.yticks(family='serif')\n",
    "ax.set_xlabel('Category')\n",
    "ax.set_ylabel('Average Total Carbohydrates')\n",
    "ax.set_title('Average Total Carbohydrates for each category')\n",
    "plt.show()"
   ]
  },
  {
   "attachments": {},
   "cell_type": "markdown",
   "metadata": {},
   "source": [
    "Sugars\n",
    "\n",
    "Carbohydrates are an essential macronutrient the body requires in large amounts to run smoothly, but not all carbs are created equal. Sugars mostly make up carbohydrates.Thus we have Smoothies and Shakes with high Average Sugars Distributions"
   ]
  },
  {
   "cell_type": "code",
   "execution_count": 56,
   "metadata": {},
   "outputs": [
    {
     "data": {
      "image/png": "[encoded data removed]",
      "text/plain": [
       "<Figure size 640x480 with 1 Axes>"
      ]
     },
     "metadata": {},
     "output_type": "display_data"
    }
   ],
   "source": [
    "df_sugars=pd.DataFrame(df.groupby('Category')['Sugars'].mean().sort_values())\n",
    "df_sugars.reset_index(inplace=True)\n",
    "fig, ax = plt.subplots()\n",
    "ax.yaxis.grid(linestyle='dashed',color='gray')\n",
    "ax.bar(df_sugars['Category'], df_sugars['Sugars'])\n",
    "xticks=plt.xticks(rotation=-55,family='serif')\n",
    "yticks=plt.yticks(family='serif')\n",
    "ax.set_xlabel('Category')\n",
    "ax.set_ylabel('Average Total Sugars')\n",
    "ax.set_title('Average Total Sugars for each category')\n",
    "plt.show()"
   ]
  },
  {
   "attachments": {},
   "cell_type": "markdown",
   "metadata": {},
   "source": [
    "Protein Analysis\n",
    "\n",
    "Chicken and Fish followed by Beef and pork have the highest proteins."
   ]
  },
  {
   "cell_type": "code",
   "execution_count": 58,
   "metadata": {},
   "outputs": [
    {
     "data": {
      "image/png": "[encoded data removed]",
      "text/plain": [
       "<Figure size 640x480 with 1 Axes>"
      ]
     },
     "metadata": {},
     "output_type": "display_data"
    }
   ],
   "source": [
    "df_protein=pd.DataFrame(df.groupby('Category')['Protein'].mean().sort_values())\n",
    "df_protein.reset_index(inplace=True)\n",
    "fig, ax = plt.subplots()\n",
    "ax.yaxis.grid(linestyle='dashed',color='gray')\n",
    "ax.bar(df_protein['Category'], df_protein['Protein'])\n",
    "xticks=plt.xticks(rotation=-55,family='serif')\n",
    "yticks=plt.yticks(family='serif')\n",
    "ax.set_xlabel('Category')\n",
    "ax.set_ylabel('Average Total Protein')\n",
    "ax.set_title('Average Total Protein for each category')\n",
    "plt.show()"
   ]
  },
  {
   "attachments": {},
   "cell_type": "markdown",
   "metadata": {},
   "source": [
    "Cholesterol Analysis\n",
    "\n",
    "Large amount of Cholterol is observed in Breakfast."
   ]
  },
  {
   "cell_type": "code",
   "execution_count": 61,
   "metadata": {},
   "outputs": [
    {
     "data": {
      "image/png": "[encoded data removed]",
      "text/plain": [
       "<Figure size 640x480 with 1 Axes>"
      ]
     },
     "metadata": {},
     "output_type": "display_data"
    }
   ],
   "source": [
    "df_chol=pd.DataFrame(df.groupby('Category')['Cholesterol'].mean().sort_values())\n",
    "df_chol.reset_index(inplace=True)\n",
    "fig, ax = plt.subplots()\n",
    "ax.yaxis.grid(linestyle='dashed',color='gray')\n",
    "ax.bar(df_chol['Category'], df_chol['Cholesterol'])\n",
    "xticks=plt.xticks(rotation=-55,family='serif')\n",
    "yticks=plt.yticks(family='serif')\n",
    "ax.set_xlabel('Category')\n",
    "ax.set_ylabel('Average Total Cholesterol')\n",
    "ax.set_title('Average Total Cholesterol for each category')\n",
    "plt.show()"
   ]
  },
  {
   "attachments": {},
   "cell_type": "markdown",
   "metadata": {},
   "source": [
    "Nutrient Analysis(%Daily Value) for each category"
   ]
  },
  {
   "cell_type": "code",
   "execution_count": 63,
   "metadata": {},
   "outputs": [
    {
     "data": {
      "text/html": [
       "<style type=\"text/css\">\n",
       "#T_46389_row0_col0 {\n",
       "  background-color: #20928c;\n",
       "  color: #f1f1f1;\n",
       "}\n",
       "#T_46389_row0_col1 {\n",
       "  background-color: #472a7a;\n",
       "  color: #f1f1f1;\n",
       "}\n",
       "#T_46389_row0_col2 {\n",
       "  background-color: #404688;\n",
       "  color: #f1f1f1;\n",
       "}\n",
       "#T_46389_row0_col3 {\n",
       "  background-color: #482475;\n",
       "  color: #f1f1f1;\n",
       "}\n",
       "#T_46389_row0_col4, #T_46389_row0_col7, #T_46389_row1_col5, #T_46389_row2_col2, #T_46389_row4_col0, #T_46389_row4_col3, #T_46389_row5_col6, #T_46389_row6_col1, #T_46389_row6_col8 {\n",
       "  background-color: #fde725;\n",
       "  color: #000000;\n",
       "}\n",
       "#T_46389_row0_col5 {\n",
       "  background-color: #f4e61e;\n",
       "  color: #000000;\n",
       "}\n",
       "#T_46389_row0_col6 {\n",
       "  background-color: #481668;\n",
       "  color: #f1f1f1;\n",
       "}\n",
       "#T_46389_row0_col8 {\n",
       "  background-color: #471365;\n",
       "  color: #f1f1f1;\n",
       "}\n",
       "#T_46389_row1_col0, #T_46389_row1_col8 {\n",
       "  background-color: #404588;\n",
       "  color: #f1f1f1;\n",
       "}\n",
       "#T_46389_row1_col1 {\n",
       "  background-color: #29798e;\n",
       "  color: #f1f1f1;\n",
       "}\n",
       "#T_46389_row1_col2 {\n",
       "  background-color: #3e4989;\n",
       "  color: #f1f1f1;\n",
       "}\n",
       "#T_46389_row1_col3, #T_46389_row3_col3 {\n",
       "  background-color: #472e7c;\n",
       "  color: #f1f1f1;\n",
       "}\n",
       "#T_46389_row1_col4 {\n",
       "  background-color: #1f968b;\n",
       "  color: #f1f1f1;\n",
       "}\n",
       "#T_46389_row1_col6, #T_46389_row2_col1, #T_46389_row3_col5, #T_46389_row3_col7, #T_46389_row4_col1, #T_46389_row5_col0, #T_46389_row5_col2, #T_46389_row5_col8, #T_46389_row6_col3, #T_46389_row6_col4 {\n",
       "  background-color: #440154;\n",
       "  color: #f1f1f1;\n",
       "}\n",
       "#T_46389_row1_col7 {\n",
       "  background-color: #8ed645;\n",
       "  color: #000000;\n",
       "}\n",
       "#T_46389_row2_col0 {\n",
       "  background-color: #40bd72;\n",
       "  color: #f1f1f1;\n",
       "}\n",
       "#T_46389_row2_col3 {\n",
       "  background-color: #26828e;\n",
       "  color: #f1f1f1;\n",
       "}\n",
       "#T_46389_row2_col4 {\n",
       "  background-color: #31678e;\n",
       "  color: #f1f1f1;\n",
       "}\n",
       "#T_46389_row2_col5 {\n",
       "  background-color: #482878;\n",
       "  color: #f1f1f1;\n",
       "}\n",
       "#T_46389_row2_col6 {\n",
       "  background-color: #481b6d;\n",
       "  color: #f1f1f1;\n",
       "}\n",
       "#T_46389_row2_col7 {\n",
       "  background-color: #306a8e;\n",
       "  color: #f1f1f1;\n",
       "}\n",
       "#T_46389_row2_col8 {\n",
       "  background-color: #481769;\n",
       "  color: #f1f1f1;\n",
       "}\n",
       "#T_46389_row3_col0 {\n",
       "  background-color: #1f948c;\n",
       "  color: #f1f1f1;\n",
       "}\n",
       "#T_46389_row3_col1 {\n",
       "  background-color: #440256;\n",
       "  color: #f1f1f1;\n",
       "}\n",
       "#T_46389_row3_col2 {\n",
       "  background-color: #3d4d8a;\n",
       "  color: #f1f1f1;\n",
       "}\n",
       "#T_46389_row3_col4, #T_46389_row3_col8 {\n",
       "  background-color: #481c6e;\n",
       "  color: #f1f1f1;\n",
       "}\n",
       "#T_46389_row3_col6 {\n",
       "  background-color: #46085c;\n",
       "  color: #f1f1f1;\n",
       "}\n",
       "#T_46389_row4_col2 {\n",
       "  background-color: #81d34d;\n",
       "  color: #000000;\n",
       "}\n",
       "#T_46389_row4_col4 {\n",
       "  background-color: #26818e;\n",
       "  color: #f1f1f1;\n",
       "}\n",
       "#T_46389_row4_col5 {\n",
       "  background-color: #dae319;\n",
       "  color: #000000;\n",
       "}\n",
       "#T_46389_row4_col6 {\n",
       "  background-color: #481d6f;\n",
       "  color: #f1f1f1;\n",
       "}\n",
       "#T_46389_row4_col7 {\n",
       "  background-color: #1f9f88;\n",
       "  color: #f1f1f1;\n",
       "}\n",
       "#T_46389_row4_col8 {\n",
       "  background-color: #218e8d;\n",
       "  color: #f1f1f1;\n",
       "}\n",
       "#T_46389_row5_col1 {\n",
       "  background-color: #460a5d;\n",
       "  color: #f1f1f1;\n",
       "}\n",
       "#T_46389_row5_col3 {\n",
       "  background-color: #38588c;\n",
       "  color: #f1f1f1;\n",
       "}\n",
       "#T_46389_row5_col4 {\n",
       "  background-color: #2c738e;\n",
       "  color: #f1f1f1;\n",
       "}\n",
       "#T_46389_row5_col5, #T_46389_row6_col6 {\n",
       "  background-color: #463480;\n",
       "  color: #f1f1f1;\n",
       "}\n",
       "#T_46389_row5_col7 {\n",
       "  background-color: #23888e;\n",
       "  color: #f1f1f1;\n",
       "}\n",
       "#T_46389_row6_col0 {\n",
       "  background-color: #450559;\n",
       "  color: #f1f1f1;\n",
       "}\n",
       "#T_46389_row6_col2 {\n",
       "  background-color: #471164;\n",
       "  color: #f1f1f1;\n",
       "}\n",
       "#T_46389_row6_col5 {\n",
       "  background-color: #46075a;\n",
       "  color: #f1f1f1;\n",
       "}\n",
       "#T_46389_row6_col7 {\n",
       "  background-color: #482374;\n",
       "  color: #f1f1f1;\n",
       "}\n",
       "</style>\n",
       "<table id=\"T_46389\">\n",
       "  <thead>\n",
       "    <tr>\n",
       "      <th class=\"index_name level0\" >Category</th>\n",
       "      <th id=\"T_46389_level0_col0\" class=\"col_heading level0 col0\" >Beef & Pork</th>\n",
       "      <th id=\"T_46389_level0_col1\" class=\"col_heading level0 col1\" >Beverages</th>\n",
       "      <th id=\"T_46389_level0_col2\" class=\"col_heading level0 col2\" >Breakfast</th>\n",
       "      <th id=\"T_46389_level0_col3\" class=\"col_heading level0 col3\" >Chicken & Fish</th>\n",
       "      <th id=\"T_46389_level0_col4\" class=\"col_heading level0 col4\" >Coffee & Tea</th>\n",
       "      <th id=\"T_46389_level0_col5\" class=\"col_heading level0 col5\" >Desserts</th>\n",
       "      <th id=\"T_46389_level0_col6\" class=\"col_heading level0 col6\" >Salads</th>\n",
       "      <th id=\"T_46389_level0_col7\" class=\"col_heading level0 col7\" >Smoothies & Shakes</th>\n",
       "      <th id=\"T_46389_level0_col8\" class=\"col_heading level0 col8\" >Snacks & Sides</th>\n",
       "    </tr>\n",
       "  </thead>\n",
       "  <tbody>\n",
       "    <tr>\n",
       "      <th id=\"T_46389_level0_row0\" class=\"row_heading level0 row0\" >Calcium (% Daily Value)</th>\n",
       "      <td id=\"T_46389_row0_col0\" class=\"data row0 col0\" >23.000000</td>\n",
       "      <td id=\"T_46389_row0_col1\" class=\"data row0 col1\" >2.962963</td>\n",
       "      <td id=\"T_46389_row0_col2\" class=\"data row0 col2\" >16.166667</td>\n",
       "      <td id=\"T_46389_row0_col3\" class=\"data row0 col3\" >15.444444</td>\n",
       "      <td id=\"T_46389_row0_col4\" class=\"data row0 col4\" >28.294737</td>\n",
       "      <td id=\"T_46389_row0_col5\" class=\"data row0 col5\" >11.428571</td>\n",
       "      <td id=\"T_46389_row0_col6\" class=\"data row0 col6\" >15.000000</td>\n",
       "      <td id=\"T_46389_row0_col7\" class=\"data row0 col7\" >35.571429</td>\n",
       "      <td id=\"T_46389_row0_col8\" class=\"data row0 col8\" >6.000000</td>\n",
       "    </tr>\n",
       "    <tr>\n",
       "      <th id=\"T_46389_level0_row1\" class=\"row_heading level0 row1\" >Carbohydrates (% Daily Value)</th>\n",
       "      <td id=\"T_46389_row1_col0\" class=\"data row1 col0\" >13.466667</td>\n",
       "      <td id=\"T_46389_row1_col1\" class=\"data row1 col1\" >9.592593</td>\n",
       "      <td id=\"T_46389_row1_col2\" class=\"data row1 col2\" >16.571429</td>\n",
       "      <td id=\"T_46389_row1_col3\" class=\"data row1 col3\" >16.333333</td>\n",
       "      <td id=\"T_46389_row1_col4\" class=\"data row1 col4\" >14.863158</td>\n",
       "      <td id=\"T_46389_row1_col5\" class=\"data row1 col5\" >11.571429</td>\n",
       "      <td id=\"T_46389_row1_col6\" class=\"data row1 col6\" >7.166667</td>\n",
       "      <td id=\"T_46389_row1_col7\" class=\"data row1 col7\" >30.142857</td>\n",
       "      <td id=\"T_46389_row1_col8\" class=\"data row1 col8\" >9.615385</td>\n",
       "    </tr>\n",
       "    <tr>\n",
       "      <th id=\"T_46389_level0_row2\" class=\"row_heading level0 row2\" >Cholesterol (% Daily Value)</th>\n",
       "      <td id=\"T_46389_row2_col0\" class=\"data row2 col0\" >28.933333</td>\n",
       "      <td id=\"T_46389_row2_col1\" class=\"data row2 col1\" >0.185185</td>\n",
       "      <td id=\"T_46389_row2_col2\" class=\"data row2 col2\" >50.952381</td>\n",
       "      <td id=\"T_46389_row2_col3\" class=\"data row2 col3\" >25.222222</td>\n",
       "      <td id=\"T_46389_row2_col4\" class=\"data row2 col4\" >9.378947</td>\n",
       "      <td id=\"T_46389_row2_col5\" class=\"data row2 col5\" >4.857143</td>\n",
       "      <td id=\"T_46389_row2_col6\" class=\"data row2 col6\" >17.333333</td>\n",
       "      <td id=\"T_46389_row2_col7\" class=\"data row2 col7\" >14.714286</td>\n",
       "      <td id=\"T_46389_row2_col8\" class=\"data row2 col8\" >6.230769</td>\n",
       "    </tr>\n",
       "    <tr>\n",
       "      <th id=\"T_46389_level0_row3\" class=\"row_heading level0 row3\" >Iron (% Daily Value)</th>\n",
       "      <td id=\"T_46389_row3_col0\" class=\"data row3 col0\" >23.333333</td>\n",
       "      <td id=\"T_46389_row3_col1\" class=\"data row3 col1\" >0.296296</td>\n",
       "      <td id=\"T_46389_row3_col2\" class=\"data row3 col2\" >17.142857</td>\n",
       "      <td id=\"T_46389_row3_col3\" class=\"data row3 col3\" >16.370370</td>\n",
       "      <td id=\"T_46389_row3_col4\" class=\"data row3 col4\" >2.147368</td>\n",
       "      <td id=\"T_46389_row3_col5\" class=\"data row3 col5\" >4.000000</td>\n",
       "      <td id=\"T_46389_row3_col6\" class=\"data row3 col6\" >10.333333</td>\n",
       "      <td id=\"T_46389_row3_col7\" class=\"data row3 col7\" >3.964286</td>\n",
       "      <td id=\"T_46389_row3_col8\" class=\"data row3 col8\" >6.615385</td>\n",
       "    </tr>\n",
       "    <tr>\n",
       "      <th id=\"T_46389_level0_row4\" class=\"row_heading level0 row4\" >Total Fat (% Daily Value)</th>\n",
       "      <td id=\"T_46389_row4_col0\" class=\"data row4 col0\" >38.600000</td>\n",
       "      <td id=\"T_46389_row4_col1\" class=\"data row4 col1\" >0.148148</td>\n",
       "      <td id=\"T_46389_row4_col2\" class=\"data row4 col2\" >42.666667</td>\n",
       "      <td id=\"T_46389_row4_col3\" class=\"data row4 col3\" >41.333333</td>\n",
       "      <td id=\"T_46389_row4_col4\" class=\"data row4 col4\" >12.357895</td>\n",
       "      <td id=\"T_46389_row4_col5\" class=\"data row4 col5\" >11.142857</td>\n",
       "      <td id=\"T_46389_row4_col6\" class=\"data row4 col6\" >18.333333</td>\n",
       "      <td id=\"T_46389_row4_col7\" class=\"data row4 col7\" >21.714286</td>\n",
       "      <td id=\"T_46389_row4_col8\" class=\"data row4 col8\" >16.230769</td>\n",
       "    </tr>\n",
       "    <tr>\n",
       "      <th id=\"T_46389_level0_row5\" class=\"row_heading level0 row5\" >Vitamin A (% Daily Value)</th>\n",
       "      <td id=\"T_46389_row5_col0\" class=\"data row5 col0\" >6.933333</td>\n",
       "      <td id=\"T_46389_row5_col1\" class=\"data row5 col1\" >0.740741</td>\n",
       "      <td id=\"T_46389_row5_col2\" class=\"data row5 col2\" >6.928571</td>\n",
       "      <td id=\"T_46389_row5_col3\" class=\"data row5 col3\" >20.444444</td>\n",
       "      <td id=\"T_46389_row5_col4\" class=\"data row5 col4\" >10.736842</td>\n",
       "      <td id=\"T_46389_row5_col5\" class=\"data row5 col5\" >5.142857</td>\n",
       "      <td id=\"T_46389_row5_col6\" class=\"data row5 col6\" >146.666667</td>\n",
       "      <td id=\"T_46389_row5_col7\" class=\"data row5 col7\" >18.750000</td>\n",
       "      <td id=\"T_46389_row5_col8\" class=\"data row5 col8\" >4.846154</td>\n",
       "    </tr>\n",
       "    <tr>\n",
       "      <th id=\"T_46389_level0_row6\" class=\"row_heading level0 row6\" >Vitamin C (% Daily Value)</th>\n",
       "      <td id=\"T_46389_row6_col0\" class=\"data row6 col0\" >7.333333</td>\n",
       "      <td id=\"T_46389_row6_col1\" class=\"data row6 col1\" >23.481481</td>\n",
       "      <td id=\"T_46389_row6_col2\" class=\"data row6 col2\" >8.904762</td>\n",
       "      <td id=\"T_46389_row6_col3\" class=\"data row6 col3\" >12.629630</td>\n",
       "      <td id=\"T_46389_row6_col4\" class=\"data row6 col4\" >0.000000</td>\n",
       "      <td id=\"T_46389_row6_col5\" class=\"data row6 col5\" >4.142857</td>\n",
       "      <td id=\"T_46389_row6_col6\" class=\"data row6 col6\" >28.333333</td>\n",
       "      <td id=\"T_46389_row6_col7\" class=\"data row6 col7\" >6.964286</td>\n",
       "      <td id=\"T_46389_row6_col8\" class=\"data row6 col8\" >28.153846</td>\n",
       "    </tr>\n",
       "  </tbody>\n",
       "</table>\n"
      ],
      "text/plain": [
       "<pandas.io.formats.style.Styler at 0x1fd22672250>"
      ]
     },
     "execution_count": 63,
     "metadata": {},
     "output_type": "execute_result"
    }
   ],
   "source": [
    "cols=['Vitamin A (% Daily Value)','Vitamin C (% Daily Value)','Calcium (% Daily Value)',\n",
    "      'Iron (% Daily Value)','Total Fat (% Daily Value)',\n",
    "      'Cholesterol (% Daily Value)','Carbohydrates (% Daily Value)']\n",
    "\n",
    "table=df.pivot_table(columns='Category',values=cols)\n",
    "table.style.background_gradient(cmap='viridis')"
   ]
  },
  {
   "attachments": {},
   "cell_type": "markdown",
   "metadata": {},
   "source": [
    "BREAKFAST"
   ]
  },
  {
   "cell_type": "code",
   "execution_count": 64,
   "metadata": {},
   "outputs": [
    {
     "name": "stdout",
     "output_type": "stream",
     "text": [
      "Calories\n",
      "Item\n",
      "Big Breakfast with Hotcakes (Large Biscuit)    1150\n",
      "Name: Calories, dtype: int64\n",
      "----------------------------------------\n",
      "\n",
      "\n",
      "Total Fat\n",
      "Item\n",
      "Big Breakfast with Hotcakes (Large Biscuit)    60.0\n",
      "Name: Total Fat, dtype: float64\n",
      "----------------------------------------\n",
      "\n",
      "\n",
      "Carbohydrates\n",
      "Item\n",
      "Big Breakfast with Hotcakes (Large Biscuit)    116\n",
      "Name: Carbohydrates, dtype: int64\n",
      "----------------------------------------\n",
      "\n",
      "\n",
      "Sodium\n",
      "Item\n",
      "Big Breakfast with Hotcakes and Egg Whites (Large Biscuit)    2290\n",
      "Name: Sodium, dtype: int64\n",
      "----------------------------------------\n",
      "\n",
      "\n",
      "Protein\n",
      "Item\n",
      "Big Breakfast with Hotcakes (Large Biscuit)    36\n",
      "Name: Protein, dtype: int64\n",
      "----------------------------------------\n",
      "\n",
      "\n",
      "Dietary Fiber\n",
      "Item\n",
      "Big Breakfast with Hotcakes (Large Biscuit)    7\n",
      "Name: Dietary Fiber, dtype: int64\n",
      "----------------------------------------\n",
      "\n",
      "\n"
     ]
    }
   ],
   "source": [
    "breakfast=df[df['Category']=='Breakfast']\n",
    "cols=['Calories','Total Fat','Carbohydrates','Sodium','Protein','Dietary Fiber']\n",
    "for col in cols:\n",
    "    print(col)\n",
    "    a=breakfast.groupby('Item')[col].max().sort_values(ascending=False).head(1)\n",
    "    print(a)\n",
    "    print('-'*40)\n",
    "    print('\\n')"
   ]
  },
  {
   "attachments": {},
   "cell_type": "markdown",
   "metadata": {},
   "source": [
    "CHICKEN & FISH"
   ]
  },
  {
   "cell_type": "code",
   "execution_count": 66,
   "metadata": {},
   "outputs": [
    {
     "name": "stdout",
     "output_type": "stream",
     "text": [
      "Calories\n",
      "Item\n",
      "Chicken McNuggets (40 piece)    1880\n",
      "Name: Calories, dtype: int64\n",
      "----------------------------------------\n",
      "\n",
      "\n",
      "Total Fat\n",
      "Item\n",
      "Chicken McNuggets (40 piece)    118.0\n",
      "Name: Total Fat, dtype: float64\n",
      "----------------------------------------\n",
      "\n",
      "\n",
      "Carbohydrates\n",
      "Item\n",
      "Chicken McNuggets (40 piece)    118\n",
      "Name: Carbohydrates, dtype: int64\n",
      "----------------------------------------\n",
      "\n",
      "\n",
      "Sodium\n",
      "Item\n",
      "Chicken McNuggets (40 piece)    3600\n",
      "Name: Sodium, dtype: int64\n",
      "----------------------------------------\n",
      "\n",
      "\n",
      "Protein\n",
      "Item\n",
      "Chicken McNuggets (40 piece)    87\n",
      "Name: Protein, dtype: int64\n",
      "----------------------------------------\n",
      "\n",
      "\n",
      "Dietary Fiber\n",
      "Item\n",
      "Chicken McNuggets (40 piece)    6\n",
      "Name: Dietary Fiber, dtype: int64\n",
      "----------------------------------------\n",
      "\n",
      "\n"
     ]
    }
   ],
   "source": [
    "chf=df[df['Category']=='Chicken & Fish']\n",
    "cols=['Calories','Total Fat','Carbohydrates','Sodium','Protein','Dietary Fiber']\n",
    "for col in cols:\n",
    "    print(col)\n",
    "    a=chf.groupby('Item')[col].max().sort_values(ascending=False).head(1)\n",
    "    print(a)\n",
    "    print('-'*40)\n",
    "    print('\\n')"
   ]
  },
  {
   "attachments": {},
   "cell_type": "markdown",
   "metadata": {},
   "source": [
    "BEVERAGES"
   ]
  },
  {
   "cell_type": "code",
   "execution_count": 67,
   "metadata": {},
   "outputs": [
    {
     "name": "stdout",
     "output_type": "stream",
     "text": [
      "Calories\n",
      "Item\n",
      "Coca-Cola Classic (Large)    280\n",
      "Name: Calories, dtype: int64\n",
      "----------------------------------------\n",
      "\n",
      "\n",
      "Total Fat\n",
      "Item\n",
      "1% Low Fat Milk Jug    2.5\n",
      "Name: Total Fat, dtype: float64\n",
      "----------------------------------------\n",
      "\n",
      "\n",
      "Carbohydrates\n",
      "Item\n",
      "Coca-Cola Classic (Large)    76\n",
      "Name: Carbohydrates, dtype: int64\n",
      "----------------------------------------\n",
      "\n",
      "\n",
      "Sodium\n",
      "Item\n",
      "Diet Dr Pepper (Large)    140\n",
      "Name: Sodium, dtype: int64\n",
      "----------------------------------------\n",
      "\n",
      "\n",
      "Protein\n",
      "Item\n",
      "Fat Free Chocolate Milk Jug    9\n",
      "Name: Protein, dtype: int64\n",
      "----------------------------------------\n",
      "\n",
      "\n",
      "Dietary Fiber\n",
      "Item\n",
      "Fat Free Chocolate Milk Jug    1\n",
      "Name: Dietary Fiber, dtype: int64\n",
      "----------------------------------------\n",
      "\n",
      "\n"
     ]
    }
   ],
   "source": [
    "bev=df[df['Category']=='Beverages']\n",
    "cols=['Calories','Total Fat','Carbohydrates','Sodium','Protein','Dietary Fiber']\n",
    "for col in cols:\n",
    "    print(col)\n",
    "    a=bev.groupby('Item')[col].max().sort_values(ascending=False).head(1)\n",
    "    print(a)\n",
    "    print('-'*40)\n",
    "    print('\\n')"
   ]
  },
  {
   "attachments": {},
   "cell_type": "markdown",
   "metadata": {},
   "source": [
    "SMOOTHIES AND SHAKES"
   ]
  },
  {
   "cell_type": "code",
   "execution_count": 68,
   "metadata": {},
   "outputs": [
    {
     "name": "stdout",
     "output_type": "stream",
     "text": [
      "Calories\n",
      "Item\n",
      "McFlurry with M&M’s Candies (Medium)    930\n",
      "Name: Calories, dtype: int64\n",
      "----------------------------------------\n",
      "\n",
      "\n",
      "Total Fat\n",
      "Item\n",
      "McFlurry with M&M’s Candies (Medium)    33.0\n",
      "Name: Total Fat, dtype: float64\n",
      "----------------------------------------\n",
      "\n",
      "\n",
      "Carbohydrates\n",
      "Item\n",
      "Chocolate Shake (Large)    141\n",
      "Name: Carbohydrates, dtype: int64\n",
      "----------------------------------------\n",
      "\n",
      "\n",
      "Sodium\n",
      "Item\n",
      "McFlurry with Reese's Peanut Butter Cups (Medium)    400\n",
      "Name: Sodium, dtype: int64\n",
      "----------------------------------------\n",
      "\n",
      "\n",
      "Protein\n",
      "Item\n",
      "McFlurry with Reese's Peanut Butter Cups (Medium)    21\n",
      "Name: Protein, dtype: int64\n",
      "----------------------------------------\n",
      "\n",
      "\n",
      "Dietary Fiber\n",
      "Item\n",
      "Blueberry Pomegranate Smoothie (Large)    5\n",
      "Name: Dietary Fiber, dtype: int64\n",
      "----------------------------------------\n",
      "\n",
      "\n"
     ]
    }
   ],
   "source": [
    "smoothnshake=df[df['Category']=='Smoothies & Shakes']\n",
    "cols=['Calories','Total Fat','Carbohydrates','Sodium','Protein','Dietary Fiber']\n",
    "for col in cols:\n",
    "    print(col)\n",
    "    a=smoothnshake.groupby('Item')[col].max().sort_values(ascending=False).head(1)\n",
    "    print(a)\n",
    "    print('-'*40)\n",
    "    print('\\n')"
   ]
  },
  {
   "attachments": {},
   "cell_type": "markdown",
   "metadata": {},
   "source": [
    "SALADS"
   ]
  },
  {
   "cell_type": "code",
   "execution_count": 69,
   "metadata": {},
   "outputs": [
    {
     "name": "stdout",
     "output_type": "stream",
     "text": [
      "Calories\n",
      "Item\n",
      "Premium Southwest Salad with Crispy Chicken    450\n",
      "Name: Calories, dtype: int64\n",
      "----------------------------------------\n",
      "\n",
      "\n",
      "Total Fat\n",
      "Item\n",
      "Premium Southwest Salad with Crispy Chicken    22.0\n",
      "Name: Total Fat, dtype: float64\n",
      "----------------------------------------\n",
      "\n",
      "\n",
      "Carbohydrates\n",
      "Item\n",
      "Premium Southwest Salad with Crispy Chicken    42\n",
      "Name: Carbohydrates, dtype: int64\n",
      "----------------------------------------\n",
      "\n",
      "\n",
      "Sodium\n",
      "Item\n",
      "Premium Bacon Ranch Salad with Crispy Chicken    860\n",
      "Name: Sodium, dtype: int64\n",
      "----------------------------------------\n",
      "\n",
      "\n",
      "Protein\n",
      "Item\n",
      "Premium Bacon Ranch Salad with Grilled Chicken    29\n",
      "Name: Protein, dtype: int64\n",
      "----------------------------------------\n",
      "\n",
      "\n",
      "Dietary Fiber\n",
      "Item\n",
      "Premium Southwest Salad with Crispy Chicken    7\n",
      "Name: Dietary Fiber, dtype: int64\n",
      "----------------------------------------\n",
      "\n",
      "\n"
     ]
    }
   ],
   "source": [
    "salads=df[df['Category']=='Salads']\n",
    "cols=['Calories','Total Fat','Carbohydrates','Sodium','Protein','Dietary Fiber']\n",
    "for col in cols:\n",
    "    print(col)\n",
    "    a=salads.groupby('Item')[col].max().sort_values(ascending=False).head(1)\n",
    "    print(a)\n",
    "    print('-'*40)\n",
    "    print('\\n')"
   ]
  }
 ],
 "metadata": {
  "kernelspec": {
   "display_name": "Python 3",
   "language": "python",
   "name": "python3"
  },
  "language_info": {
   "codemirror_mode": {
    "name": "ipython",
    "version": 3
   },
   "file_extension": ".py",
   "mimetype": "text/x-python",
   "name": "python",
   "nbconvert_exporter": "python",
   "pygments_lexer": "ipython3",
   "version": "3.11.1"
  },
  "orig_nbformat": 4
 },
 "nbformat": 4,
 "nbformat_minor": 2
}
